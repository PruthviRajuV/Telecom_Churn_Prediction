{
 "cells": [
  {
   "cell_type": "code",
   "execution_count": 1,
   "id": "a66aae61",
   "metadata": {},
   "outputs": [],
   "source": [
    "import numpy as np\n",
    "import pandas as pd\n",
    "import matplotlib.pyplot as plt\n",
    "import seaborn as sns\n",
    "import warnings\n",
    "warnings.filterwarnings(\"ignore\")"
   ]
  },
  {
   "cell_type": "markdown",
   "id": "431f38ac",
   "metadata": {},
   "source": [
    "# Telecom_churn_Case_Study"
   ]
  },
  {
   "cell_type": "markdown",
   "id": "dfca8d76",
   "metadata": {},
   "source": [
    "In the telecom industry, customers are able to choose from multiple service providers and actively switch from one operator to another. In this highly competitive market, the telecommunications industry experiences an average of 15-25% annual churn rate. Given the fact that it costs 5-10 times more to acquire a new customer than to retain an existing one, customer retention has now become even more important than customer acquisition.\n",
    "\n",
    "For many incumbent operators, retaining high profitable customers is the number one business\n",
    "goal. To reduce customer churn, telecom companies need to predict which customers are at high risk of churn. In this project, you will analyze customer-level data of a leading telecom firm, build predictive models to identify customers at high risk of churn.\n",
    "\n",
    "goal is to build a machine learning model that is able to predict churning customers based on the features provided for their usage."
   ]
  },
  {
   "cell_type": "code",
   "execution_count": 2,
   "id": "9b64a15a",
   "metadata": {},
   "outputs": [],
   "source": [
    "df = pd.read_csv('train (1).csv')\n"
   ]
  },
  {
   "cell_type": "code",
   "execution_count": 3,
   "id": "fbfe276b",
   "metadata": {},
   "outputs": [
    {
     "data": {
      "text/html": [
       "<div>\n",
       "<style scoped>\n",
       "    .dataframe tbody tr th:only-of-type {\n",
       "        vertical-align: middle;\n",
       "    }\n",
       "\n",
       "    .dataframe tbody tr th {\n",
       "        vertical-align: top;\n",
       "    }\n",
       "\n",
       "    .dataframe thead th {\n",
       "        text-align: right;\n",
       "    }\n",
       "</style>\n",
       "<table border=\"1\" class=\"dataframe\">\n",
       "  <thead>\n",
       "    <tr style=\"text-align: right;\">\n",
       "      <th></th>\n",
       "      <th>id</th>\n",
       "      <th>circle_id</th>\n",
       "      <th>loc_og_t2o_mou</th>\n",
       "      <th>std_og_t2o_mou</th>\n",
       "      <th>loc_ic_t2o_mou</th>\n",
       "      <th>last_date_of_month_6</th>\n",
       "      <th>last_date_of_month_7</th>\n",
       "      <th>last_date_of_month_8</th>\n",
       "      <th>arpu_6</th>\n",
       "      <th>arpu_7</th>\n",
       "      <th>...</th>\n",
       "      <th>sachet_3g_7</th>\n",
       "      <th>sachet_3g_8</th>\n",
       "      <th>fb_user_6</th>\n",
       "      <th>fb_user_7</th>\n",
       "      <th>fb_user_8</th>\n",
       "      <th>aon</th>\n",
       "      <th>aug_vbc_3g</th>\n",
       "      <th>jul_vbc_3g</th>\n",
       "      <th>jun_vbc_3g</th>\n",
       "      <th>churn_probability</th>\n",
       "    </tr>\n",
       "  </thead>\n",
       "  <tbody>\n",
       "    <tr>\n",
       "      <th>0</th>\n",
       "      <td>0</td>\n",
       "      <td>109</td>\n",
       "      <td>0.0</td>\n",
       "      <td>0.0</td>\n",
       "      <td>0.0</td>\n",
       "      <td>6/30/2014</td>\n",
       "      <td>7/31/2014</td>\n",
       "      <td>8/31/2014</td>\n",
       "      <td>31.277</td>\n",
       "      <td>87.009</td>\n",
       "      <td>...</td>\n",
       "      <td>0</td>\n",
       "      <td>0</td>\n",
       "      <td>NaN</td>\n",
       "      <td>NaN</td>\n",
       "      <td>NaN</td>\n",
       "      <td>1958</td>\n",
       "      <td>0.0</td>\n",
       "      <td>0.0</td>\n",
       "      <td>0.0</td>\n",
       "      <td>0</td>\n",
       "    </tr>\n",
       "    <tr>\n",
       "      <th>1</th>\n",
       "      <td>1</td>\n",
       "      <td>109</td>\n",
       "      <td>0.0</td>\n",
       "      <td>0.0</td>\n",
       "      <td>0.0</td>\n",
       "      <td>6/30/2014</td>\n",
       "      <td>7/31/2014</td>\n",
       "      <td>8/31/2014</td>\n",
       "      <td>0.000</td>\n",
       "      <td>122.787</td>\n",
       "      <td>...</td>\n",
       "      <td>0</td>\n",
       "      <td>0</td>\n",
       "      <td>NaN</td>\n",
       "      <td>1.0</td>\n",
       "      <td>NaN</td>\n",
       "      <td>710</td>\n",
       "      <td>0.0</td>\n",
       "      <td>0.0</td>\n",
       "      <td>0.0</td>\n",
       "      <td>0</td>\n",
       "    </tr>\n",
       "    <tr>\n",
       "      <th>2</th>\n",
       "      <td>2</td>\n",
       "      <td>109</td>\n",
       "      <td>0.0</td>\n",
       "      <td>0.0</td>\n",
       "      <td>0.0</td>\n",
       "      <td>6/30/2014</td>\n",
       "      <td>7/31/2014</td>\n",
       "      <td>8/31/2014</td>\n",
       "      <td>60.806</td>\n",
       "      <td>103.176</td>\n",
       "      <td>...</td>\n",
       "      <td>0</td>\n",
       "      <td>0</td>\n",
       "      <td>NaN</td>\n",
       "      <td>NaN</td>\n",
       "      <td>NaN</td>\n",
       "      <td>882</td>\n",
       "      <td>0.0</td>\n",
       "      <td>0.0</td>\n",
       "      <td>0.0</td>\n",
       "      <td>0</td>\n",
       "    </tr>\n",
       "    <tr>\n",
       "      <th>3</th>\n",
       "      <td>3</td>\n",
       "      <td>109</td>\n",
       "      <td>0.0</td>\n",
       "      <td>0.0</td>\n",
       "      <td>0.0</td>\n",
       "      <td>6/30/2014</td>\n",
       "      <td>7/31/2014</td>\n",
       "      <td>8/31/2014</td>\n",
       "      <td>156.362</td>\n",
       "      <td>205.260</td>\n",
       "      <td>...</td>\n",
       "      <td>0</td>\n",
       "      <td>0</td>\n",
       "      <td>NaN</td>\n",
       "      <td>NaN</td>\n",
       "      <td>NaN</td>\n",
       "      <td>982</td>\n",
       "      <td>0.0</td>\n",
       "      <td>0.0</td>\n",
       "      <td>0.0</td>\n",
       "      <td>0</td>\n",
       "    </tr>\n",
       "    <tr>\n",
       "      <th>4</th>\n",
       "      <td>4</td>\n",
       "      <td>109</td>\n",
       "      <td>0.0</td>\n",
       "      <td>0.0</td>\n",
       "      <td>0.0</td>\n",
       "      <td>6/30/2014</td>\n",
       "      <td>7/31/2014</td>\n",
       "      <td>8/31/2014</td>\n",
       "      <td>240.708</td>\n",
       "      <td>128.191</td>\n",
       "      <td>...</td>\n",
       "      <td>1</td>\n",
       "      <td>0</td>\n",
       "      <td>1.0</td>\n",
       "      <td>1.0</td>\n",
       "      <td>1.0</td>\n",
       "      <td>647</td>\n",
       "      <td>0.0</td>\n",
       "      <td>0.0</td>\n",
       "      <td>0.0</td>\n",
       "      <td>0</td>\n",
       "    </tr>\n",
       "  </tbody>\n",
       "</table>\n",
       "<p>5 rows × 172 columns</p>\n",
       "</div>"
      ],
      "text/plain": [
       "   id  circle_id  loc_og_t2o_mou  std_og_t2o_mou  loc_ic_t2o_mou  \\\n",
       "0   0        109             0.0             0.0             0.0   \n",
       "1   1        109             0.0             0.0             0.0   \n",
       "2   2        109             0.0             0.0             0.0   \n",
       "3   3        109             0.0             0.0             0.0   \n",
       "4   4        109             0.0             0.0             0.0   \n",
       "\n",
       "  last_date_of_month_6 last_date_of_month_7 last_date_of_month_8   arpu_6  \\\n",
       "0            6/30/2014            7/31/2014            8/31/2014   31.277   \n",
       "1            6/30/2014            7/31/2014            8/31/2014    0.000   \n",
       "2            6/30/2014            7/31/2014            8/31/2014   60.806   \n",
       "3            6/30/2014            7/31/2014            8/31/2014  156.362   \n",
       "4            6/30/2014            7/31/2014            8/31/2014  240.708   \n",
       "\n",
       "    arpu_7  ...  sachet_3g_7  sachet_3g_8  fb_user_6  fb_user_7  fb_user_8  \\\n",
       "0   87.009  ...            0            0        NaN        NaN        NaN   \n",
       "1  122.787  ...            0            0        NaN        1.0        NaN   \n",
       "2  103.176  ...            0            0        NaN        NaN        NaN   \n",
       "3  205.260  ...            0            0        NaN        NaN        NaN   \n",
       "4  128.191  ...            1            0        1.0        1.0        1.0   \n",
       "\n",
       "    aon  aug_vbc_3g  jul_vbc_3g  jun_vbc_3g  churn_probability  \n",
       "0  1958         0.0         0.0         0.0                  0  \n",
       "1   710         0.0         0.0         0.0                  0  \n",
       "2   882         0.0         0.0         0.0                  0  \n",
       "3   982         0.0         0.0         0.0                  0  \n",
       "4   647         0.0         0.0         0.0                  0  \n",
       "\n",
       "[5 rows x 172 columns]"
      ]
     },
     "execution_count": 3,
     "metadata": {},
     "output_type": "execute_result"
    }
   ],
   "source": [
    "df.head()"
   ]
  },
  {
   "cell_type": "code",
   "execution_count": 4,
   "id": "3f6f9260",
   "metadata": {},
   "outputs": [
    {
     "data": {
      "text/plain": [
       "(69999, 172)"
      ]
     },
     "execution_count": 4,
     "metadata": {},
     "output_type": "execute_result"
    }
   ],
   "source": [
    "df.shape"
   ]
  },
  {
   "cell_type": "markdown",
   "id": "d70506a9",
   "metadata": {},
   "source": [
    "data has 69999 rows and 172 columns"
   ]
  },
  {
   "cell_type": "code",
   "execution_count": 5,
   "id": "132bd642",
   "metadata": {},
   "outputs": [
    {
     "name": "stdout",
     "output_type": "stream",
     "text": [
      "<class 'pandas.core.frame.DataFrame'>\n",
      "RangeIndex: 69999 entries, 0 to 69998\n",
      "Columns: 172 entries, id to churn_probability\n",
      "dtypes: float64(135), int64(28), object(9)\n",
      "memory usage: 91.9+ MB\n"
     ]
    }
   ],
   "source": [
    "df.info()"
   ]
  },
  {
   "cell_type": "code",
   "execution_count": 6,
   "id": "12f5c76e",
   "metadata": {},
   "outputs": [
    {
     "data": {
      "text/plain": [
       "<AxesSubplot:xlabel='churn_probability', ylabel='count'>"
      ]
     },
     "execution_count": 6,
     "metadata": {},
     "output_type": "execute_result"
    },
    {
     "data": {
      "image/png": "[encoded data removed]",
      "text/plain": [
       "<Figure size 432x288 with 1 Axes>"
      ]
     },
     "metadata": {
      "needs_background": "light"
     },
     "output_type": "display_data"
    }
   ],
   "source": [
    "sns.countplot(df.churn_probability)"
   ]
  },
  {
   "cell_type": "code",
   "execution_count": 7,
   "id": "487bb63b",
   "metadata": {},
   "outputs": [
    {
     "data": {
      "text/plain": [
       "churn_probability\n",
       "0    62867\n",
       "1     7132\n",
       "dtype: int64"
      ]
     },
     "execution_count": 7,
     "metadata": {},
     "output_type": "execute_result"
    }
   ],
   "source": [
    "df.value_counts(df.churn_probability)"
   ]
  },
  {
   "cell_type": "code",
   "execution_count": 8,
   "id": "ba5b0de0",
   "metadata": {},
   "outputs": [
    {
     "name": "stdout",
     "output_type": "stream",
     "text": [
      "% of churn in given dataset 10.19\n"
     ]
    }
   ],
   "source": [
    "print('% of churn in given dataset',round((df.value_counts(df.churn_probability)[1]*100/len(df)),2))"
   ]
  },
  {
   "cell_type": "markdown",
   "id": "bf85c84d",
   "metadata": {},
   "source": [
    "#### There are 7000 customers (approx 10%) who churned in given data set"
   ]
  },
  {
   "cell_type": "code",
   "execution_count": 9,
   "id": "d180a3f9",
   "metadata": {},
   "outputs": [
    {
     "data": {
      "text/html": [
       "<div>\n",
       "<style scoped>\n",
       "    .dataframe tbody tr th:only-of-type {\n",
       "        vertical-align: middle;\n",
       "    }\n",
       "\n",
       "    .dataframe tbody tr th {\n",
       "        vertical-align: top;\n",
       "    }\n",
       "\n",
       "    .dataframe thead th {\n",
       "        text-align: right;\n",
       "    }\n",
       "</style>\n",
       "<table border=\"1\" class=\"dataframe\">\n",
       "  <thead>\n",
       "    <tr style=\"text-align: right;\">\n",
       "      <th></th>\n",
       "      <th>id</th>\n",
       "      <th>circle_id</th>\n",
       "      <th>loc_og_t2o_mou</th>\n",
       "      <th>std_og_t2o_mou</th>\n",
       "      <th>loc_ic_t2o_mou</th>\n",
       "      <th>last_date_of_month_6</th>\n",
       "      <th>last_date_of_month_7</th>\n",
       "      <th>last_date_of_month_8</th>\n",
       "      <th>arpu_6</th>\n",
       "      <th>arpu_7</th>\n",
       "      <th>...</th>\n",
       "      <th>sachet_3g_7</th>\n",
       "      <th>sachet_3g_8</th>\n",
       "      <th>fb_user_6</th>\n",
       "      <th>fb_user_7</th>\n",
       "      <th>fb_user_8</th>\n",
       "      <th>aon</th>\n",
       "      <th>aug_vbc_3g</th>\n",
       "      <th>jul_vbc_3g</th>\n",
       "      <th>jun_vbc_3g</th>\n",
       "      <th>churn_probability</th>\n",
       "    </tr>\n",
       "  </thead>\n",
       "  <tbody>\n",
       "    <tr>\n",
       "      <th>0</th>\n",
       "      <td>0</td>\n",
       "      <td>109</td>\n",
       "      <td>0.0</td>\n",
       "      <td>0.0</td>\n",
       "      <td>0.0</td>\n",
       "      <td>6/30/2014</td>\n",
       "      <td>7/31/2014</td>\n",
       "      <td>8/31/2014</td>\n",
       "      <td>31.277</td>\n",
       "      <td>87.009</td>\n",
       "      <td>...</td>\n",
       "      <td>0</td>\n",
       "      <td>0</td>\n",
       "      <td>NaN</td>\n",
       "      <td>NaN</td>\n",
       "      <td>NaN</td>\n",
       "      <td>1958</td>\n",
       "      <td>0.00</td>\n",
       "      <td>0.00</td>\n",
       "      <td>0.00</td>\n",
       "      <td>0</td>\n",
       "    </tr>\n",
       "    <tr>\n",
       "      <th>1</th>\n",
       "      <td>1</td>\n",
       "      <td>109</td>\n",
       "      <td>0.0</td>\n",
       "      <td>0.0</td>\n",
       "      <td>0.0</td>\n",
       "      <td>6/30/2014</td>\n",
       "      <td>7/31/2014</td>\n",
       "      <td>8/31/2014</td>\n",
       "      <td>0.000</td>\n",
       "      <td>122.787</td>\n",
       "      <td>...</td>\n",
       "      <td>0</td>\n",
       "      <td>0</td>\n",
       "      <td>NaN</td>\n",
       "      <td>1.0</td>\n",
       "      <td>NaN</td>\n",
       "      <td>710</td>\n",
       "      <td>0.00</td>\n",
       "      <td>0.00</td>\n",
       "      <td>0.00</td>\n",
       "      <td>0</td>\n",
       "    </tr>\n",
       "    <tr>\n",
       "      <th>2</th>\n",
       "      <td>2</td>\n",
       "      <td>109</td>\n",
       "      <td>0.0</td>\n",
       "      <td>0.0</td>\n",
       "      <td>0.0</td>\n",
       "      <td>6/30/2014</td>\n",
       "      <td>7/31/2014</td>\n",
       "      <td>8/31/2014</td>\n",
       "      <td>60.806</td>\n",
       "      <td>103.176</td>\n",
       "      <td>...</td>\n",
       "      <td>0</td>\n",
       "      <td>0</td>\n",
       "      <td>NaN</td>\n",
       "      <td>NaN</td>\n",
       "      <td>NaN</td>\n",
       "      <td>882</td>\n",
       "      <td>0.00</td>\n",
       "      <td>0.00</td>\n",
       "      <td>0.00</td>\n",
       "      <td>0</td>\n",
       "    </tr>\n",
       "    <tr>\n",
       "      <th>3</th>\n",
       "      <td>3</td>\n",
       "      <td>109</td>\n",
       "      <td>0.0</td>\n",
       "      <td>0.0</td>\n",
       "      <td>0.0</td>\n",
       "      <td>6/30/2014</td>\n",
       "      <td>7/31/2014</td>\n",
       "      <td>8/31/2014</td>\n",
       "      <td>156.362</td>\n",
       "      <td>205.260</td>\n",
       "      <td>...</td>\n",
       "      <td>0</td>\n",
       "      <td>0</td>\n",
       "      <td>NaN</td>\n",
       "      <td>NaN</td>\n",
       "      <td>NaN</td>\n",
       "      <td>982</td>\n",
       "      <td>0.00</td>\n",
       "      <td>0.00</td>\n",
       "      <td>0.00</td>\n",
       "      <td>0</td>\n",
       "    </tr>\n",
       "    <tr>\n",
       "      <th>4</th>\n",
       "      <td>4</td>\n",
       "      <td>109</td>\n",
       "      <td>0.0</td>\n",
       "      <td>0.0</td>\n",
       "      <td>0.0</td>\n",
       "      <td>6/30/2014</td>\n",
       "      <td>7/31/2014</td>\n",
       "      <td>8/31/2014</td>\n",
       "      <td>240.708</td>\n",
       "      <td>128.191</td>\n",
       "      <td>...</td>\n",
       "      <td>1</td>\n",
       "      <td>0</td>\n",
       "      <td>1.0</td>\n",
       "      <td>1.0</td>\n",
       "      <td>1.0</td>\n",
       "      <td>647</td>\n",
       "      <td>0.00</td>\n",
       "      <td>0.00</td>\n",
       "      <td>0.00</td>\n",
       "      <td>0</td>\n",
       "    </tr>\n",
       "    <tr>\n",
       "      <th>...</th>\n",
       "      <td>...</td>\n",
       "      <td>...</td>\n",
       "      <td>...</td>\n",
       "      <td>...</td>\n",
       "      <td>...</td>\n",
       "      <td>...</td>\n",
       "      <td>...</td>\n",
       "      <td>...</td>\n",
       "      <td>...</td>\n",
       "      <td>...</td>\n",
       "      <td>...</td>\n",
       "      <td>...</td>\n",
       "      <td>...</td>\n",
       "      <td>...</td>\n",
       "      <td>...</td>\n",
       "      <td>...</td>\n",
       "      <td>...</td>\n",
       "      <td>...</td>\n",
       "      <td>...</td>\n",
       "      <td>...</td>\n",
       "      <td>...</td>\n",
       "    </tr>\n",
       "    <tr>\n",
       "      <th>69994</th>\n",
       "      <td>69994</td>\n",
       "      <td>109</td>\n",
       "      <td>0.0</td>\n",
       "      <td>0.0</td>\n",
       "      <td>0.0</td>\n",
       "      <td>6/30/2014</td>\n",
       "      <td>7/31/2014</td>\n",
       "      <td>8/31/2014</td>\n",
       "      <td>15.760</td>\n",
       "      <td>410.924</td>\n",
       "      <td>...</td>\n",
       "      <td>1</td>\n",
       "      <td>0</td>\n",
       "      <td>NaN</td>\n",
       "      <td>1.0</td>\n",
       "      <td>1.0</td>\n",
       "      <td>221</td>\n",
       "      <td>0.00</td>\n",
       "      <td>0.00</td>\n",
       "      <td>0.00</td>\n",
       "      <td>0</td>\n",
       "    </tr>\n",
       "    <tr>\n",
       "      <th>69995</th>\n",
       "      <td>69995</td>\n",
       "      <td>109</td>\n",
       "      <td>0.0</td>\n",
       "      <td>0.0</td>\n",
       "      <td>0.0</td>\n",
       "      <td>6/30/2014</td>\n",
       "      <td>7/31/2014</td>\n",
       "      <td>8/31/2014</td>\n",
       "      <td>160.083</td>\n",
       "      <td>289.129</td>\n",
       "      <td>...</td>\n",
       "      <td>0</td>\n",
       "      <td>0</td>\n",
       "      <td>NaN</td>\n",
       "      <td>NaN</td>\n",
       "      <td>NaN</td>\n",
       "      <td>712</td>\n",
       "      <td>0.00</td>\n",
       "      <td>0.00</td>\n",
       "      <td>0.00</td>\n",
       "      <td>0</td>\n",
       "    </tr>\n",
       "    <tr>\n",
       "      <th>69996</th>\n",
       "      <td>69996</td>\n",
       "      <td>109</td>\n",
       "      <td>0.0</td>\n",
       "      <td>0.0</td>\n",
       "      <td>0.0</td>\n",
       "      <td>6/30/2014</td>\n",
       "      <td>7/31/2014</td>\n",
       "      <td>8/31/2014</td>\n",
       "      <td>372.088</td>\n",
       "      <td>258.374</td>\n",
       "      <td>...</td>\n",
       "      <td>0</td>\n",
       "      <td>0</td>\n",
       "      <td>NaN</td>\n",
       "      <td>NaN</td>\n",
       "      <td>NaN</td>\n",
       "      <td>879</td>\n",
       "      <td>0.00</td>\n",
       "      <td>0.00</td>\n",
       "      <td>0.00</td>\n",
       "      <td>0</td>\n",
       "    </tr>\n",
       "    <tr>\n",
       "      <th>69997</th>\n",
       "      <td>69997</td>\n",
       "      <td>109</td>\n",
       "      <td>0.0</td>\n",
       "      <td>0.0</td>\n",
       "      <td>0.0</td>\n",
       "      <td>6/30/2014</td>\n",
       "      <td>7/31/2014</td>\n",
       "      <td>8/31/2014</td>\n",
       "      <td>238.575</td>\n",
       "      <td>245.414</td>\n",
       "      <td>...</td>\n",
       "      <td>0</td>\n",
       "      <td>0</td>\n",
       "      <td>1.0</td>\n",
       "      <td>1.0</td>\n",
       "      <td>1.0</td>\n",
       "      <td>277</td>\n",
       "      <td>664.25</td>\n",
       "      <td>1402.96</td>\n",
       "      <td>990.97</td>\n",
       "      <td>0</td>\n",
       "    </tr>\n",
       "    <tr>\n",
       "      <th>69998</th>\n",
       "      <td>69998</td>\n",
       "      <td>109</td>\n",
       "      <td>0.0</td>\n",
       "      <td>0.0</td>\n",
       "      <td>0.0</td>\n",
       "      <td>6/30/2014</td>\n",
       "      <td>7/31/2014</td>\n",
       "      <td>8/31/2014</td>\n",
       "      <td>168.269</td>\n",
       "      <td>42.815</td>\n",
       "      <td>...</td>\n",
       "      <td>0</td>\n",
       "      <td>0</td>\n",
       "      <td>1.0</td>\n",
       "      <td>NaN</td>\n",
       "      <td>1.0</td>\n",
       "      <td>1876</td>\n",
       "      <td>0.00</td>\n",
       "      <td>0.00</td>\n",
       "      <td>0.00</td>\n",
       "      <td>0</td>\n",
       "    </tr>\n",
       "  </tbody>\n",
       "</table>\n",
       "<p>69999 rows × 172 columns</p>\n",
       "</div>"
      ],
      "text/plain": [
       "          id  circle_id  loc_og_t2o_mou  std_og_t2o_mou  loc_ic_t2o_mou  \\\n",
       "0          0        109             0.0             0.0             0.0   \n",
       "1          1        109             0.0             0.0             0.0   \n",
       "2          2        109             0.0             0.0             0.0   \n",
       "3          3        109             0.0             0.0             0.0   \n",
       "4          4        109             0.0             0.0             0.0   \n",
       "...      ...        ...             ...             ...             ...   \n",
       "69994  69994        109             0.0             0.0             0.0   \n",
       "69995  69995        109             0.0             0.0             0.0   \n",
       "69996  69996        109             0.0             0.0             0.0   \n",
       "69997  69997        109             0.0             0.0             0.0   \n",
       "69998  69998        109             0.0             0.0             0.0   \n",
       "\n",
       "      last_date_of_month_6 last_date_of_month_7 last_date_of_month_8   arpu_6  \\\n",
       "0                6/30/2014            7/31/2014            8/31/2014   31.277   \n",
       "1                6/30/2014            7/31/2014            8/31/2014    0.000   \n",
       "2                6/30/2014            7/31/2014            8/31/2014   60.806   \n",
       "3                6/30/2014            7/31/2014            8/31/2014  156.362   \n",
       "4                6/30/2014            7/31/2014            8/31/2014  240.708   \n",
       "...                    ...                  ...                  ...      ...   \n",
       "69994            6/30/2014            7/31/2014            8/31/2014   15.760   \n",
       "69995            6/30/2014            7/31/2014            8/31/2014  160.083   \n",
       "69996            6/30/2014            7/31/2014            8/31/2014  372.088   \n",
       "69997            6/30/2014            7/31/2014            8/31/2014  238.575   \n",
       "69998            6/30/2014            7/31/2014            8/31/2014  168.269   \n",
       "\n",
       "        arpu_7  ...  sachet_3g_7  sachet_3g_8  fb_user_6  fb_user_7  \\\n",
       "0       87.009  ...            0            0        NaN        NaN   \n",
       "1      122.787  ...            0            0        NaN        1.0   \n",
       "2      103.176  ...            0            0        NaN        NaN   \n",
       "3      205.260  ...            0            0        NaN        NaN   \n",
       "4      128.191  ...            1            0        1.0        1.0   \n",
       "...        ...  ...          ...          ...        ...        ...   \n",
       "69994  410.924  ...            1            0        NaN        1.0   \n",
       "69995  289.129  ...            0            0        NaN        NaN   \n",
       "69996  258.374  ...            0            0        NaN        NaN   \n",
       "69997  245.414  ...            0            0        1.0        1.0   \n",
       "69998   42.815  ...            0            0        1.0        NaN   \n",
       "\n",
       "       fb_user_8   aon  aug_vbc_3g  jul_vbc_3g  jun_vbc_3g  churn_probability  \n",
       "0            NaN  1958        0.00        0.00        0.00                  0  \n",
       "1            NaN   710        0.00        0.00        0.00                  0  \n",
       "2            NaN   882        0.00        0.00        0.00                  0  \n",
       "3            NaN   982        0.00        0.00        0.00                  0  \n",
       "4            1.0   647        0.00        0.00        0.00                  0  \n",
       "...          ...   ...         ...         ...         ...                ...  \n",
       "69994        1.0   221        0.00        0.00        0.00                  0  \n",
       "69995        NaN   712        0.00        0.00        0.00                  0  \n",
       "69996        NaN   879        0.00        0.00        0.00                  0  \n",
       "69997        1.0   277      664.25     1402.96      990.97                  0  \n",
       "69998        1.0  1876        0.00        0.00        0.00                  0  \n",
       "\n",
       "[69999 rows x 172 columns]"
      ]
     },
     "execution_count": 9,
     "metadata": {},
     "output_type": "execute_result"
    }
   ],
   "source": [
    "df.drop_duplicates()"
   ]
  },
  {
   "cell_type": "markdown",
   "id": "d2dfa6e2",
   "metadata": {},
   "source": [
    "#### there are no duplicate columns"
   ]
  },
  {
   "cell_type": "code",
   "execution_count": 10,
   "id": "7a7aaaa7",
   "metadata": {},
   "outputs": [
    {
     "data": {
      "text/plain": [
       "True"
      ]
     },
     "execution_count": 10,
     "metadata": {},
     "output_type": "execute_result"
    }
   ],
   "source": [
    "df.circle_id.nunique()==1"
   ]
  },
  {
   "cell_type": "markdown",
   "id": "5f6c98a6",
   "metadata": {},
   "source": [
    "#### Checking columns with only one unique values"
   ]
  },
  {
   "cell_type": "code",
   "execution_count": 11,
   "id": "5a62de9d",
   "metadata": {},
   "outputs": [
    {
     "data": {
      "text/plain": [
       "['circle_id',\n",
       " 'loc_og_t2o_mou',\n",
       " 'std_og_t2o_mou',\n",
       " 'loc_ic_t2o_mou',\n",
       " 'last_date_of_month_6',\n",
       " 'last_date_of_month_7',\n",
       " 'last_date_of_month_8',\n",
       " 'std_og_t2c_mou_6',\n",
       " 'std_og_t2c_mou_7',\n",
       " 'std_og_t2c_mou_8',\n",
       " 'std_ic_t2o_mou_6',\n",
       " 'std_ic_t2o_mou_7',\n",
       " 'std_ic_t2o_mou_8']"
      ]
     },
     "execution_count": 11,
     "metadata": {},
     "output_type": "execute_result"
    }
   ],
   "source": [
    "redundant =[]\n",
    "for i in df.columns:\n",
    "    if (df[i].nunique()==1)== 1:\n",
    "        redundant.append(i)\n",
    "list(redundant)"
   ]
  },
  {
   "cell_type": "markdown",
   "id": "789b2b33",
   "metadata": {},
   "source": [
    "#### Droppping columns with unique values = 1"
   ]
  },
  {
   "cell_type": "code",
   "execution_count": 12,
   "id": "f43327eb",
   "metadata": {},
   "outputs": [],
   "source": [
    "df = df.drop(columns = 'id',axis = 1)"
   ]
  },
  {
   "cell_type": "code",
   "execution_count": 13,
   "id": "6a610ba2",
   "metadata": {},
   "outputs": [
    {
     "data": {
      "text/plain": [
       "(69999, 158)"
      ]
     },
     "execution_count": 13,
     "metadata": {},
     "output_type": "execute_result"
    }
   ],
   "source": [
    "df = df.drop(columns = redundant,axis = 1)\n",
    "df.shape"
   ]
  },
  {
   "cell_type": "code",
   "execution_count": 14,
   "id": "1c5466eb",
   "metadata": {},
   "outputs": [
    {
     "name": "stdout",
     "output_type": "stream",
     "text": [
      "there are  152  numerical columns\n",
      "there are  6  categorical columns\n"
     ]
    }
   ],
   "source": [
    "df_num = df.select_dtypes(['int64','float64'])\n",
    "df_cat = df.select_dtypes(\"object\")\n",
    "print(\"there are \",df_num.shape[1],\" numerical columns\")\n",
    "print(\"there are \",df_cat.shape[1],\" categorical columns\")"
   ]
  },
  {
   "cell_type": "markdown",
   "id": "a283d737",
   "metadata": {},
   "source": [
    "### Dealing with categorical variables"
   ]
  },
  {
   "cell_type": "code",
   "execution_count": 15,
   "id": "05d32f27",
   "metadata": {},
   "outputs": [
    {
     "data": {
      "text/html": [
       "<div>\n",
       "<style scoped>\n",
       "    .dataframe tbody tr th:only-of-type {\n",
       "        vertical-align: middle;\n",
       "    }\n",
       "\n",
       "    .dataframe tbody tr th {\n",
       "        vertical-align: top;\n",
       "    }\n",
       "\n",
       "    .dataframe thead th {\n",
       "        text-align: right;\n",
       "    }\n",
       "</style>\n",
       "<table border=\"1\" class=\"dataframe\">\n",
       "  <thead>\n",
       "    <tr style=\"text-align: right;\">\n",
       "      <th></th>\n",
       "      <th>date_of_last_rech_6</th>\n",
       "      <th>date_of_last_rech_7</th>\n",
       "      <th>date_of_last_rech_8</th>\n",
       "      <th>date_of_last_rech_data_6</th>\n",
       "      <th>date_of_last_rech_data_7</th>\n",
       "      <th>date_of_last_rech_data_8</th>\n",
       "    </tr>\n",
       "  </thead>\n",
       "  <tbody>\n",
       "    <tr>\n",
       "      <th>0</th>\n",
       "      <td>6/22/2014</td>\n",
       "      <td>7/10/2014</td>\n",
       "      <td>8/24/2014</td>\n",
       "      <td>NaN</td>\n",
       "      <td>NaN</td>\n",
       "      <td>NaN</td>\n",
       "    </tr>\n",
       "    <tr>\n",
       "      <th>1</th>\n",
       "      <td>6/12/2014</td>\n",
       "      <td>7/10/2014</td>\n",
       "      <td>8/26/2014</td>\n",
       "      <td>NaN</td>\n",
       "      <td>7/8/2014</td>\n",
       "      <td>NaN</td>\n",
       "    </tr>\n",
       "    <tr>\n",
       "      <th>2</th>\n",
       "      <td>6/11/2014</td>\n",
       "      <td>7/22/2014</td>\n",
       "      <td>8/24/2014</td>\n",
       "      <td>NaN</td>\n",
       "      <td>NaN</td>\n",
       "      <td>NaN</td>\n",
       "    </tr>\n",
       "    <tr>\n",
       "      <th>3</th>\n",
       "      <td>6/15/2014</td>\n",
       "      <td>7/21/2014</td>\n",
       "      <td>8/25/2014</td>\n",
       "      <td>NaN</td>\n",
       "      <td>NaN</td>\n",
       "      <td>NaN</td>\n",
       "    </tr>\n",
       "    <tr>\n",
       "      <th>4</th>\n",
       "      <td>6/25/2014</td>\n",
       "      <td>7/26/2014</td>\n",
       "      <td>8/30/2014</td>\n",
       "      <td>6/25/2014</td>\n",
       "      <td>7/23/2014</td>\n",
       "      <td>8/20/2014</td>\n",
       "    </tr>\n",
       "  </tbody>\n",
       "</table>\n",
       "</div>"
      ],
      "text/plain": [
       "  date_of_last_rech_6 date_of_last_rech_7 date_of_last_rech_8  \\\n",
       "0           6/22/2014           7/10/2014           8/24/2014   \n",
       "1           6/12/2014           7/10/2014           8/26/2014   \n",
       "2           6/11/2014           7/22/2014           8/24/2014   \n",
       "3           6/15/2014           7/21/2014           8/25/2014   \n",
       "4           6/25/2014           7/26/2014           8/30/2014   \n",
       "\n",
       "  date_of_last_rech_data_6 date_of_last_rech_data_7 date_of_last_rech_data_8  \n",
       "0                      NaN                      NaN                      NaN  \n",
       "1                      NaN                 7/8/2014                      NaN  \n",
       "2                      NaN                      NaN                      NaN  \n",
       "3                      NaN                      NaN                      NaN  \n",
       "4                6/25/2014                7/23/2014                8/20/2014  "
      ]
     },
     "execution_count": 15,
     "metadata": {},
     "output_type": "execute_result"
    }
   ],
   "source": [
    "df_cat.head()"
   ]
  },
  {
   "cell_type": "code",
   "execution_count": 16,
   "id": "e8b41597",
   "metadata": {},
   "outputs": [
    {
     "data": {
      "text/plain": [
       "['date_of_last_rech_data_6',\n",
       " 'date_of_last_rech_data_7',\n",
       " 'date_of_last_rech_data_8']"
      ]
     },
     "execution_count": 16,
     "metadata": {},
     "output_type": "execute_result"
    }
   ],
   "source": [
    "### greater than 70% null columns in categorical variables\n",
    "nulls_cat =[]\n",
    "for i in df_cat.columns:\n",
    "    a=df_cat[i].isnull().sum()\n",
    "    if a >= len(df_cat)*0.70:\n",
    "        nulls_cat.append(i)\n",
    "list(nulls_cat)"
   ]
  },
  {
   "cell_type": "markdown",
   "id": "e58b8099",
   "metadata": {},
   "source": [
    "#### although 70% are null values We should not drop column as whenever a person did not recharge data we can see null value, so we should not drop column or delete rows directly for this"
   ]
  },
  {
   "cell_type": "code",
   "execution_count": 17,
   "id": "bb7cc822",
   "metadata": {},
   "outputs": [],
   "source": [
    "### Converting date\n",
    "df['date_of_last_rech_6'] = pd.to_datetime(df['date_of_last_rech_6']).dt.day\n",
    "df['date_of_last_rech_7'] = pd.to_datetime(df['date_of_last_rech_7']).dt.day\n",
    "df['date_of_last_rech_8'] = pd.to_datetime(df['date_of_last_rech_8']).dt.day\n",
    "\n",
    "df['date_of_last_rech_data_6'] = pd.to_datetime(df['date_of_last_rech_data_6']).dt.day\n",
    "df['date_of_last_rech_data_7'] = pd.to_datetime(df['date_of_last_rech_data_7']).dt.day\n",
    "df['date_of_last_rech_data_8'] = pd.to_datetime(df['date_of_last_rech_data_8']).dt.day"
   ]
  },
  {
   "cell_type": "code",
   "execution_count": 18,
   "id": "5fd19a76",
   "metadata": {},
   "outputs": [
    {
     "name": "stdout",
     "output_type": "stream",
     "text": [
      "<class 'pandas.core.frame.DataFrame'>\n",
      "RangeIndex: 69999 entries, 0 to 69998\n",
      "Columns: 158 entries, arpu_6 to churn_probability\n",
      "dtypes: float64(132), int64(26)\n",
      "memory usage: 84.4 MB\n"
     ]
    }
   ],
   "source": [
    "df.info()"
   ]
  },
  {
   "cell_type": "code",
   "execution_count": 19,
   "id": "a47c2d9c",
   "metadata": {},
   "outputs": [
    {
     "data": {
      "text/plain": [
       "arpu_6                  0\n",
       "arpu_7                  0\n",
       "arpu_8                  0\n",
       "onnet_mou_6          2768\n",
       "onnet_mou_7          2687\n",
       "                     ... \n",
       "aon                     0\n",
       "aug_vbc_3g              0\n",
       "jul_vbc_3g              0\n",
       "jun_vbc_3g              0\n",
       "churn_probability       0\n",
       "Length: 158, dtype: int64"
      ]
     },
     "execution_count": 19,
     "metadata": {},
     "output_type": "execute_result"
    }
   ],
   "source": [
    "df.isnull().sum()"
   ]
  },
  {
   "cell_type": "markdown",
   "id": "43e96219",
   "metadata": {},
   "source": [
    "### Most columns are having null values and cannot be dropped directly , for example if person has not recahrged for so value is empty and it should be replaced with zero"
   ]
  },
  {
   "cell_type": "code",
   "execution_count": 20,
   "id": "bf22ff24",
   "metadata": {},
   "outputs": [
    {
     "data": {
      "text/plain": [
       "<AxesSubplot:>"
      ]
     },
     "execution_count": 20,
     "metadata": {},
     "output_type": "execute_result"
    },
    {
     "data": {
      "image/png": "[encoded data removed]",
      "text/plain": [
       "<Figure size 2520x720 with 1 Axes>"
      ]
     },
     "metadata": {
      "needs_background": "light"
     },
     "output_type": "display_data"
    }
   ],
   "source": [
    "# Plotting the percentage of null values in each column\n",
    "N = df.isnull().sum()*100/len(df.index)\n",
    "plt.figure(figsize=[35,10])\n",
    "N.plot.bar()"
   ]
  },
  {
   "cell_type": "code",
   "execution_count": 21,
   "id": "5e3d6c69",
   "metadata": {
    "scrolled": false
   },
   "outputs": [],
   "source": [
    "df = df.fillna(0)"
   ]
  },
  {
   "cell_type": "code",
   "execution_count": 22,
   "id": "1c24ac04",
   "metadata": {},
   "outputs": [
    {
     "data": {
      "text/plain": [
       "(69999, 158)"
      ]
     },
     "execution_count": 22,
     "metadata": {},
     "output_type": "execute_result"
    }
   ],
   "source": [
    "df.shape"
   ]
  },
  {
   "cell_type": "markdown",
   "id": "83d9aba9",
   "metadata": {},
   "source": [
    "## Filtering High value customers\n",
    "#### we need to predict churn for customers who have more valuable\n",
    "#### high valueble customers are customers who's recharge amount is say is greater than certain threshold value for example top 70% percentile"
   ]
  },
  {
   "cell_type": "code",
   "execution_count": 23,
   "id": "1b1b87c7",
   "metadata": {},
   "outputs": [],
   "source": [
    "#Total Recharge Amount for data\n",
    "\n",
    "df['total_rech_amt_data_6'] = df['av_rech_amt_data_6'] * df['total_rech_data_6']\n",
    "df['total_rech_amt_data_7'] = df['av_rech_amt_data_7'] * df['total_rech_data_7']\n",
    "df['total_rech_amt_data_8'] = df['av_rech_amt_data_8'] * df['total_rech_data_8']"
   ]
  },
  {
   "cell_type": "code",
   "execution_count": 24,
   "id": "94ab63ed",
   "metadata": {},
   "outputs": [],
   "source": [
    "#Total Recharge Amount for data + call recharge\n",
    "df[\"total_recharge_amnt_6\"] = df['total_rech_amt_6'] + df['total_rech_amt_data_6']\n",
    "df[\"total_recharge_amnt_7\"] = df['total_rech_amt_7'] + df['total_rech_amt_data_7']\n",
    "df[\"total_recharge_amnt_8\"] = df['total_rech_amt_8'] + df['total_rech_amt_data_8']\n"
   ]
  },
  {
   "cell_type": "code",
   "execution_count": 25,
   "id": "68cf0b34",
   "metadata": {},
   "outputs": [],
   "source": [
    "df[\"total_recharge_amnt_6_7_AVE\"] = (df[\"total_recharge_amnt_6\"]+df[\"total_recharge_amnt_7\"])/2"
   ]
  },
  {
   "cell_type": "code",
   "execution_count": 26,
   "id": "c20c9d32",
   "metadata": {},
   "outputs": [],
   "source": [
    "df = df[df[\"total_recharge_amnt_6_7_AVE\"]>df[\"total_recharge_amnt_7\"].quantile(0.7)]"
   ]
  },
  {
   "cell_type": "code",
   "execution_count": 27,
   "id": "af56a5ad",
   "metadata": {},
   "outputs": [
    {
     "data": {
      "text/plain": [
       "(20970, 165)"
      ]
     },
     "execution_count": 27,
     "metadata": {},
     "output_type": "execute_result"
    }
   ],
   "source": [
    "df.shape"
   ]
  },
  {
   "cell_type": "markdown",
   "id": "7d204f2e",
   "metadata": {},
   "source": [
    "## EDA"
   ]
  },
  {
   "cell_type": "code",
   "execution_count": 28,
   "id": "9419dd03",
   "metadata": {},
   "outputs": [
    {
     "data": {
      "text/plain": [
       "<AxesSubplot:xlabel='churn_probability', ylabel='count'>"
      ]
     },
     "execution_count": 28,
     "metadata": {},
     "output_type": "execute_result"
    },
    {
     "data": {
      "image/png": "[encoded data removed]",
      "text/plain": [
       "<Figure size 432x288 with 1 Axes>"
      ]
     },
     "metadata": {
      "needs_background": "light"
     },
     "output_type": "display_data"
    }
   ],
   "source": [
    "sns.countplot(df.churn_probability)"
   ]
  },
  {
   "cell_type": "code",
   "execution_count": 29,
   "id": "f64f1ead",
   "metadata": {},
   "outputs": [],
   "source": [
    "def box_plt(i):\n",
    "    plt.figure(figsize=(15,10))\n",
    "    plt.subplot(2,3,1)\n",
    "    sns.boxplot(data=df, y=i+\"_6\",x=\"churn_probability\",hue=\"churn_probability\",showfliers=False)\n",
    "    plt.subplot(2,3,2)\n",
    "    sns.boxplot(data=df, y=i+\"_7\",x=\"churn_probability\",hue=\"churn_probability\",showfliers=False)\n",
    "    plt.subplot(2,3,3)\n",
    "    sns.boxplot(data=df, y=i+\"_8\",x=\"churn_probability\",hue=\"churn_probability\",showfliers=False)\n",
    "    plt.show()\n",
    "    "
   ]
  },
  {
   "cell_type": "code",
   "execution_count": 30,
   "id": "86895427",
   "metadata": {},
   "outputs": [],
   "source": [
    "def plots(i):\n",
    "    df.groupby(\"churn_probability\")[i+\"_6\",i+\"_7\",i+\"_8\"].median().plot.bar(figsize=(6,4))\n",
    "    plt.title(i+\" 6,7,8\",fontsize=15)\n",
    "    #plt.tick_params(size=5,labelsize = 15) \n",
    "    plt.ylabel(i,fontsize=10)\n",
    "    plt.xlabel(\"Churn probability\",fontsize=10)\n",
    "    plt.show()\n"
   ]
  },
  {
   "cell_type": "code",
   "execution_count": 31,
   "id": "2415854e",
   "metadata": {},
   "outputs": [
    {
     "data": {
      "image/png": "[encoded data removed]",
      "text/plain": [
       "<Figure size 432x288 with 1 Axes>"
      ]
     },
     "metadata": {
      "needs_background": "light"
     },
     "output_type": "display_data"
    }
   ],
   "source": [
    "## plotting median of recharge amnount\n",
    "plots('total_recharge_amnt')\n"
   ]
  },
  {
   "cell_type": "code",
   "execution_count": 32,
   "id": "291c45ba",
   "metadata": {},
   "outputs": [
    {
     "data": {
      "image/png": "[encoded data removed]",
      "text/plain": [
       "<Figure size 432x288 with 1 Axes>"
      ]
     },
     "metadata": {
      "needs_background": "light"
     },
     "output_type": "display_data"
    }
   ],
   "source": [
    "## plotting median of average revenue per user\n",
    "plots('arpu')\n"
   ]
  },
  {
   "cell_type": "code",
   "execution_count": 33,
   "id": "3a569ad7",
   "metadata": {},
   "outputs": [
    {
     "data": {
      "image/png": "[encoded data removed]",
      "text/plain": [
       "<Figure size 432x288 with 1 Axes>"
      ]
     },
     "metadata": {
      "needs_background": "light"
     },
     "output_type": "display_data"
    }
   ],
   "source": [
    "## plotting median of calls within the same operator network\n",
    "plots('onnet_mou')\n"
   ]
  },
  {
   "cell_type": "code",
   "execution_count": 34,
   "id": "e868c9e7",
   "metadata": {},
   "outputs": [
    {
     "data": {
      "image/png": "[encoded data removed]",
      "text/plain": [
       "<Figure size 432x288 with 1 Axes>"
      ]
     },
     "metadata": {
      "needs_background": "light"
     },
     "output_type": "display_data"
    }
   ],
   "source": [
    "## plotting median of calls within the same operator network\n",
    "plots('offnet_mou')"
   ]
  },
  {
   "cell_type": "code",
   "execution_count": 35,
   "id": "bfdb3851",
   "metadata": {},
   "outputs": [
    {
     "data": {
      "image/png": "[encoded data removed]",
      "text/plain": [
       "<Figure size 432x288 with 1 Axes>"
      ]
     },
     "metadata": {
      "needs_background": "light"
     },
     "output_type": "display_data"
    }
   ],
   "source": [
    "plots('loc_og_mou')\n"
   ]
  },
  {
   "cell_type": "code",
   "execution_count": 36,
   "id": "990fe515",
   "metadata": {},
   "outputs": [
    {
     "data": {
      "image/png": "[encoded data removed]",
      "text/plain": [
       "<Figure size 432x288 with 1 Axes>"
      ]
     },
     "metadata": {
      "needs_background": "light"
     },
     "output_type": "display_data"
    }
   ],
   "source": [
    "plots('std_og_mou')\n"
   ]
  },
  {
   "cell_type": "code",
   "execution_count": 37,
   "id": "6bb15914",
   "metadata": {},
   "outputs": [
    {
     "data": {
      "image/png": "[encoded data removed]",
      "text/plain": [
       "<Figure size 432x288 with 1 Axes>"
      ]
     },
     "metadata": {
      "needs_background": "light"
     },
     "output_type": "display_data"
    }
   ],
   "source": [
    "plots('total_og_mou')\n",
    "\n"
   ]
  },
  {
   "cell_type": "code",
   "execution_count": 38,
   "id": "dfc7edd4",
   "metadata": {},
   "outputs": [
    {
     "data": {
      "image/png": "[encoded data removed]",
      "text/plain": [
       "<Figure size 432x288 with 1 Axes>"
      ]
     },
     "metadata": {
      "needs_background": "light"
     },
     "output_type": "display_data"
    }
   ],
   "source": [
    "plots('spl_og_mou')"
   ]
  },
  {
   "cell_type": "raw",
   "id": "614fa932",
   "metadata": {},
   "source": [
    "arpu_6\n",
    "onnet_mou_6\n",
    "roam_ic_mou_6\n",
    "roam_og_mou_6\n",
    "loc_og_mou_6\n",
    "std_og_mou_6\n",
    "isd_og_mou_6\n",
    "spl_og_mou_6\n",
    "og_others_6\n",
    "total_og_mou_6\n",
    "loc_ic_mou_6\n",
    "std_ic_mou_6\n",
    "total_ic_mou_6\n",
    "spl_ic_mou_6\n",
    "isd_ic_mou_6\n",
    "ic_others_6"
   ]
  },
  {
   "cell_type": "code",
   "execution_count": 39,
   "id": "6c7545f8",
   "metadata": {},
   "outputs": [
    {
     "data": {
      "image/png": "[encoded data removed]",
      "text/plain": [
       "<Figure size 432x288 with 1 Axes>"
      ]
     },
     "metadata": {
      "needs_background": "light"
     },
     "output_type": "display_data"
    }
   ],
   "source": [
    "plots('loc_ic_mou')"
   ]
  },
  {
   "cell_type": "code",
   "execution_count": 40,
   "id": "ca1fc6e4",
   "metadata": {},
   "outputs": [
    {
     "data": {
      "image/png": "[encoded data removed]",
      "text/plain": [
       "<Figure size 432x288 with 1 Axes>"
      ]
     },
     "metadata": {
      "needs_background": "light"
     },
     "output_type": "display_data"
    }
   ],
   "source": [
    "plots('std_ic_mou')"
   ]
  },
  {
   "cell_type": "code",
   "execution_count": 41,
   "id": "445bd9a1",
   "metadata": {
    "scrolled": true
   },
   "outputs": [
    {
     "data": {
      "image/png": "[encoded data removed]",
      "text/plain": [
       "<Figure size 432x288 with 1 Axes>"
      ]
     },
     "metadata": {
      "needs_background": "light"
     },
     "output_type": "display_data"
    }
   ],
   "source": [
    "plots('total_ic_mou')"
   ]
  },
  {
   "cell_type": "raw",
   "id": "dbaf241b",
   "metadata": {},
   "source": [
    "date_of_last_rech_6\n",
    "last_day_rch_amt_6\n",
    "date_of_last_rech_data_6\n",
    "count_rech_2g_6\n",
    "count_rech_3g_6\n",
    "vol_2g_mb_6\n",
    "vol_3g_mb_6\n",
    "arpu_3g_6\n",
    "arpu_2g_6\n",
    "night_pck_user_6\n",
    "monthly_2g_6\n",
    "sachet_2g_6\n",
    "monthly_3g_6\n",
    "sachet_3g_6\n",
    "aon\n",
    "aug_vbc_3g"
   ]
  },
  {
   "cell_type": "code",
   "execution_count": 42,
   "id": "cbac8164",
   "metadata": {},
   "outputs": [
    {
     "data": {
      "image/png": "[encoded data removed]",
      "text/plain": [
       "<Figure size 432x288 with 1 Axes>"
      ]
     },
     "metadata": {
      "needs_background": "light"
     },
     "output_type": "display_data"
    }
   ],
   "source": [
    "plots('fb_user')"
   ]
  },
  {
   "cell_type": "code",
   "execution_count": 43,
   "id": "ea084ec2",
   "metadata": {},
   "outputs": [
    {
     "data": {
      "image/png": "[encoded data removed]",
      "text/plain": [
       "<Figure size 1080x720 with 3 Axes>"
      ]
     },
     "metadata": {
      "needs_background": "light"
     },
     "output_type": "display_data"
    }
   ],
   "source": [
    "box_plt('count_rech_2g')"
   ]
  },
  {
   "cell_type": "code",
   "execution_count": 44,
   "id": "d1bddaff",
   "metadata": {},
   "outputs": [
    {
     "data": {
      "image/png": "[encoded data removed]",
      "text/plain": [
       "<Figure size 1080x720 with 3 Axes>"
      ]
     },
     "metadata": {
      "needs_background": "light"
     },
     "output_type": "display_data"
    }
   ],
   "source": [
    "box_plt('count_rech_3g')"
   ]
  },
  {
   "cell_type": "code",
   "execution_count": 45,
   "id": "1bf98aca",
   "metadata": {},
   "outputs": [
    {
     "data": {
      "image/png": "[encoded data removed]",
      "text/plain": [
       "<Figure size 1080x720 with 3 Axes>"
      ]
     },
     "metadata": {
      "needs_background": "light"
     },
     "output_type": "display_data"
    }
   ],
   "source": [
    "box_plt('arpu_2g')"
   ]
  },
  {
   "cell_type": "code",
   "execution_count": 46,
   "id": "4c031723",
   "metadata": {},
   "outputs": [
    {
     "data": {
      "image/png": "[encoded data removed]",
      "text/plain": [
       "<Figure size 1080x720 with 3 Axes>"
      ]
     },
     "metadata": {
      "needs_background": "light"
     },
     "output_type": "display_data"
    }
   ],
   "source": [
    "box_plt('arpu_3g')"
   ]
  },
  {
   "cell_type": "code",
   "execution_count": 47,
   "id": "5b6cef70",
   "metadata": {},
   "outputs": [
    {
     "data": {
      "image/png": "[encoded data removed]",
      "text/plain": [
       "<Figure size 576x432 with 1 Axes>"
      ]
     },
     "metadata": {
      "needs_background": "light"
     },
     "output_type": "display_data"
    }
   ],
   "source": [
    "plt.figure(figsize=[8,6])\n",
    "sns.boxplot(data=df,x=\"churn_probability\",y=\"aon\")\n",
    "plt.title(\"Age of Network\",fontsize=15)\n",
    "plt.xlabel(\"Churn type\",fontsize=15)\n",
    "plt.ylabel(\"Age of Network\",fontsize=15)\n",
    "plt.show()"
   ]
  },
  {
   "cell_type": "code",
   "execution_count": 48,
   "id": "45b1b273",
   "metadata": {},
   "outputs": [
    {
     "data": {
      "image/png": "[encoded data removed]",
      "text/plain": [
       "<Figure size 1008x576 with 1 Axes>"
      ]
     },
     "metadata": {
      "needs_background": "light"
     },
     "output_type": "display_data"
    }
   ],
   "source": [
    "plt.figure(figsize=(14,8))\n",
    "sns.countplot(x = 'date_of_last_rech_8', hue = 'churn_probability',data = df)\n",
    "plt.show()"
   ]
  },
  {
   "cell_type": "code",
   "execution_count": 49,
   "id": "449140b3",
   "metadata": {},
   "outputs": [
    {
     "data": {
      "image/png": "[encoded data removed]",
      "text/plain": [
       "<Figure size 1008x576 with 1 Axes>"
      ]
     },
     "metadata": {
      "needs_background": "light"
     },
     "output_type": "display_data"
    }
   ],
   "source": [
    "plt.figure(figsize=(14,8))\n",
    "sns.countplot(x = 'date_of_last_rech_data_8', hue = 'churn_probability',data = df)\n",
    "plt.show()"
   ]
  },
  {
   "cell_type": "code",
   "execution_count": 50,
   "id": "8842d3e9",
   "metadata": {},
   "outputs": [
    {
     "data": {
      "text/plain": [
       "<AxesSubplot:>"
      ]
     },
     "execution_count": 50,
     "metadata": {},
     "output_type": "execute_result"
    },
    {
     "data": {
      "image/png": "[encoded data removed]",
      "text/plain": [
       "<Figure size 2160x1440 with 2 Axes>"
      ]
     },
     "metadata": {
      "needs_background": "light"
     },
     "output_type": "display_data"
    }
   ],
   "source": [
    "# heat map to check correlation of variables\n",
    "plt.figure(figsize=[30,20])\n",
    "sns.heatmap(df.corr(),cmap='YlGnBu')"
   ]
  },
  {
   "cell_type": "markdown",
   "id": "c9601ec3",
   "metadata": {},
   "source": [
    "### Observations from EDA\n",
    "#### 1)for persons who are likely to churn we can see that i.e from june to august\n",
    "##### recharge amount is decreasing with time \n",
    "##### Average amount per user decreases with time\n",
    "##### local, STD, spl incoming calls decreases with time\n",
    "##### local, STD, spl outgoing calls decreases with time\n",
    "##### 2g and 3g recharge decreases with time\n",
    "##### those who churn are not FB users generally\n",
    "##### those who do not churn recharge count of increased during last 10 days\n",
    "##### those who churn have lesser age of network i.e not old users\n",
    "\n",
    "### there are columns with high correlration(heat map) and we should use PCA / feature ellimination\n"
   ]
  },
  {
   "cell_type": "markdown",
   "id": "13220863",
   "metadata": {},
   "source": [
    "# Modelling"
   ]
  },
  {
   "cell_type": "markdown",
   "id": "a4eea48d",
   "metadata": {},
   "source": [
    "### Scaling data using standard scaler for PCA"
   ]
  },
  {
   "cell_type": "code",
   "execution_count": 51,
   "id": "3398622b",
   "metadata": {},
   "outputs": [],
   "source": [
    "\n",
    "from sklearn.preprocessing import StandardScaler\n",
    "scaler = StandardScaler()\n",
    "y = df.pop('churn_probability')\n",
    "X = df.copy()\n",
    "X = scaler.fit_transform(X)"
   ]
  },
  {
   "cell_type": "code",
   "execution_count": 52,
   "id": "6b36f233",
   "metadata": {},
   "outputs": [
    {
     "data": {
      "text/plain": [
       "0    19239\n",
       "1     1731\n",
       "Name: churn_probability, dtype: int64"
      ]
     },
     "execution_count": 52,
     "metadata": {},
     "output_type": "execute_result"
    }
   ],
   "source": [
    "y.value_counts()"
   ]
  },
  {
   "cell_type": "markdown",
   "id": "9aea3871",
   "metadata": {},
   "source": [
    "## Principal Component Analysis"
   ]
  },
  {
   "cell_type": "code",
   "execution_count": 53,
   "id": "266da6d8",
   "metadata": {},
   "outputs": [],
   "source": [
    "from sklearn.decomposition import PCA\n",
    "pca = PCA(random_state = 42)"
   ]
  },
  {
   "cell_type": "code",
   "execution_count": 54,
   "id": "5c175e4d",
   "metadata": {},
   "outputs": [
    {
     "data": {
      "text/plain": [
       "PCA(random_state=42)"
      ]
     },
     "execution_count": 54,
     "metadata": {},
     "output_type": "execute_result"
    }
   ],
   "source": [
    "pca.fit(X)"
   ]
  },
  {
   "cell_type": "markdown",
   "id": "3beba510",
   "metadata": {},
   "source": [
    "#### PCA Components"
   ]
  },
  {
   "cell_type": "code",
   "execution_count": 55,
   "id": "feac77ff",
   "metadata": {},
   "outputs": [
    {
     "data": {
      "text/plain": [
       "array([[-2.73528811e-02, -2.36464296e-02, -1.39688667e-02, ...,\n",
       "         1.20448881e-01,  1.07426272e-01,  1.34901884e-01],\n",
       "       [ 1.65978930e-01,  1.79532497e-01,  1.79446389e-01, ...,\n",
       "         8.13146986e-02,  8.72986069e-02,  9.35213271e-02],\n",
       "       [ 8.19226886e-02,  1.04435816e-01,  9.34479377e-02, ...,\n",
       "         1.29895875e-01,  1.23184253e-01,  1.39671926e-01],\n",
       "       ...,\n",
       "       [ 0.00000000e+00,  1.07018089e-16, -4.39072179e-16, ...,\n",
       "         3.06286592e-02, -9.93123441e-02, -1.34559855e-01],\n",
       "       [ 0.00000000e+00, -7.45220046e-17,  3.85620786e-17, ...,\n",
       "         6.05712567e-02, -4.96095040e-03, -2.51466669e-02],\n",
       "       [-0.00000000e+00, -3.24751173e-16,  3.35623925e-16, ...,\n",
       "        -1.00393626e-01, -4.73297326e-02, -5.89550369e-02]])"
      ]
     },
     "execution_count": 55,
     "metadata": {},
     "output_type": "execute_result"
    }
   ],
   "source": [
    "\n",
    "pca.components_"
   ]
  },
  {
   "cell_type": "markdown",
   "id": "48f56646",
   "metadata": {},
   "source": [
    "#### variance ratio of variables"
   ]
  },
  {
   "cell_type": "code",
   "execution_count": 56,
   "id": "4970237a",
   "metadata": {},
   "outputs": [
    {
     "data": {
      "text/plain": [
       "array([1.21067896e-01, 8.91231882e-02, 6.50813274e-02, 5.65362967e-02,\n",
       "       3.56677309e-02, 3.16762514e-02, 2.69729840e-02, 2.53915294e-02,\n",
       "       2.27577199e-02, 2.20596146e-02, 2.04621293e-02, 1.90556106e-02,\n",
       "       1.78339014e-02, 1.68170777e-02, 1.65342889e-02, 1.58973512e-02,\n",
       "       1.55866592e-02, 1.46571386e-02, 1.41157742e-02, 1.34424019e-02,\n",
       "       1.22122619e-02, 1.12102692e-02, 1.07228360e-02, 1.03414827e-02,\n",
       "       1.00419308e-02, 9.65141078e-03, 9.49214769e-03, 9.16433701e-03,\n",
       "       8.20997013e-03, 7.65688077e-03, 7.62493494e-03, 7.16082989e-03,\n",
       "       7.01552322e-03, 6.83217497e-03, 6.50526958e-03, 6.32100770e-03,\n",
       "       6.19761732e-03, 5.88027744e-03, 5.80426357e-03, 5.74356085e-03,\n",
       "       5.64860887e-03, 5.36366578e-03, 5.26122982e-03, 5.13576799e-03,\n",
       "       5.08110453e-03, 4.97573338e-03, 4.76317208e-03, 4.52346737e-03,\n",
       "       4.38921366e-03, 4.28821708e-03, 4.25042319e-03, 4.00837058e-03,\n",
       "       3.99852889e-03, 3.90661578e-03, 3.77435439e-03, 3.73042705e-03,\n",
       "       3.38243407e-03, 3.32586874e-03, 3.26766999e-03, 3.19247401e-03,\n",
       "       2.92199996e-03, 2.88401976e-03, 2.83947570e-03, 2.76723031e-03,\n",
       "       2.72812836e-03, 2.63970308e-03, 2.59010467e-03, 2.51396207e-03,\n",
       "       2.44415143e-03, 2.41357680e-03, 2.27990195e-03, 2.15873136e-03,\n",
       "       2.13040229e-03, 2.10803348e-03, 2.05993847e-03, 2.03118310e-03,\n",
       "       1.98322567e-03, 1.90729370e-03, 1.85249044e-03, 1.78853141e-03,\n",
       "       1.77435163e-03, 1.74348995e-03, 1.68668161e-03, 1.65096833e-03,\n",
       "       1.57805826e-03, 1.52758741e-03, 1.51789469e-03, 1.48267638e-03,\n",
       "       1.45546772e-03, 1.39129986e-03, 1.35109006e-03, 1.30406930e-03,\n",
       "       1.23041476e-03, 1.20387798e-03, 1.19651160e-03, 1.17483087e-03,\n",
       "       1.14380724e-03, 1.12612091e-03, 1.04645651e-03, 9.88045316e-04,\n",
       "       9.84540757e-04, 9.53837702e-04, 9.09667401e-04, 8.86334100e-04,\n",
       "       8.63735223e-04, 8.31910245e-04, 8.17164060e-04, 7.37268045e-04,\n",
       "       7.21799154e-04, 6.73687613e-04, 6.60391950e-04, 6.15375475e-04,\n",
       "       5.84118456e-04, 5.32908585e-04, 4.98224328e-04, 4.65813261e-04,\n",
       "       4.21203318e-04, 3.86165791e-04, 3.08333932e-04, 2.75713054e-04,\n",
       "       2.56417967e-04, 2.25209322e-04, 2.21408521e-04, 2.15500382e-04,\n",
       "       1.67845153e-04, 1.54632536e-04, 1.40659955e-04, 4.74775765e-05,\n",
       "       2.16600049e-05, 9.13127772e-06, 1.94415824e-06, 6.04718183e-07,\n",
       "       3.26542851e-07, 8.32921589e-12, 3.90680577e-12, 3.18010522e-12,\n",
       "       2.94549727e-12, 1.65932774e-12, 1.44786247e-12, 1.18566752e-12,\n",
       "       1.01541999e-12, 7.62117557e-13, 7.29226755e-13, 6.96009420e-13,\n",
       "       6.72211308e-13, 4.65909386e-13, 2.80959980e-13, 2.38275567e-13,\n",
       "       1.66030242e-13, 1.21928735e-13, 1.11138168e-13, 2.38764325e-32,\n",
       "       2.14551883e-33, 1.28995818e-33, 8.40114414e-34, 8.33493344e-34,\n",
       "       7.45705180e-34, 7.01923852e-34, 6.87485465e-34, 6.82990773e-34,\n",
       "       6.09190774e-34, 5.81258039e-34, 5.37463826e-34, 5.37463826e-34])"
      ]
     },
     "execution_count": 56,
     "metadata": {},
     "output_type": "execute_result"
    }
   ],
   "source": [
    "\n",
    "pca.explained_variance_ratio_"
   ]
  },
  {
   "cell_type": "markdown",
   "id": "4fcc4565",
   "metadata": {},
   "source": [
    "### Scree plot\n"
   ]
  },
  {
   "cell_type": "code",
   "execution_count": 57,
   "id": "60462746",
   "metadata": {},
   "outputs": [
    {
     "data": {
      "text/plain": [
       "<matplotlib.collections.LineCollection at 0x7fa268a60b80>"
      ]
     },
     "execution_count": 57,
     "metadata": {},
     "output_type": "execute_result"
    },
    {
     "data": {
      "image/png": "[encoded data removed]",
      "text/plain": [
       "<Figure size 720x432 with 1 Axes>"
      ]
     },
     "metadata": {
      "needs_background": "light"
     },
     "output_type": "display_data"
    }
   ],
   "source": [
    "cum_var = np.cumsum(pca.explained_variance_ratio_)\n",
    "plt.figure(figsize=[10,6])\n",
    "sns.lineplot(x=list(range(1,165)),y=cum_var)\n",
    "plt.title(\"Cumulative Variance of principal components\",size=15)\n",
    "plt.ylabel(\"Explained Variance\",size=15)\n",
    "plt.xlabel(\"No of Features\",size=15)\n",
    "plt.vlines(x=100, ymax=0.99, ymin=0.0, colors=\"b\", linestyles=\"--\")\n",
    "plt.hlines(y=0.99, xmax=100, xmin=0.0, colors=\"r\", linestyles=\"--\")"
   ]
  },
  {
   "cell_type": "markdown",
   "id": "a8b972f1",
   "metadata": {},
   "source": [
    "### selecting 100 componenets for almost explaning 99 % variance\n",
    "### using incremental PCA"
   ]
  },
  {
   "cell_type": "code",
   "execution_count": 58,
   "id": "632b0d8a",
   "metadata": {},
   "outputs": [],
   "source": [
    "from sklearn.decomposition import IncrementalPCA\n",
    "iPCA = IncrementalPCA(n_components=100)\n",
    "X1 = iPCA.fit_transform(X)"
   ]
  },
  {
   "cell_type": "markdown",
   "id": "81b58de8",
   "metadata": {},
   "source": [
    "## Logistic Regression"
   ]
  },
  {
   "cell_type": "code",
   "execution_count": 59,
   "id": "c0d525c1",
   "metadata": {
    "scrolled": false
   },
   "outputs": [
    {
     "data": {
      "text/html": [
       "<table class=\"simpletable\">\n",
       "<caption>Generalized Linear Model Regression Results</caption>\n",
       "<tr>\n",
       "  <th>Dep. Variable:</th>   <td>churn_probability</td> <th>  No. Observations:  </th>  <td> 20970</td> \n",
       "</tr>\n",
       "<tr>\n",
       "  <th>Model:</th>                  <td>GLM</td>        <th>  Df Residuals:      </th>  <td> 20869</td> \n",
       "</tr>\n",
       "<tr>\n",
       "  <th>Model Family:</th>        <td>Binomial</td>      <th>  Df Model:          </th>  <td>   100</td> \n",
       "</tr>\n",
       "<tr>\n",
       "  <th>Link Function:</th>         <td>logit</td>       <th>  Scale:             </th> <td>  1.0000</td>\n",
       "</tr>\n",
       "<tr>\n",
       "  <th>Method:</th>                <td>IRLS</td>        <th>  Log-Likelihood:    </th> <td> -3704.5</td>\n",
       "</tr>\n",
       "<tr>\n",
       "  <th>Date:</th>            <td>Wed, 11 May 2022</td>  <th>  Deviance:          </th> <td>  7409.0</td>\n",
       "</tr>\n",
       "<tr>\n",
       "  <th>Time:</th>                <td>07:15:32</td>      <th>  Pearson chi2:      </th> <td>6.84e+05</td>\n",
       "</tr>\n",
       "<tr>\n",
       "  <th>No. Iterations:</th>         <td>11</td>         <th>                     </th>     <td> </td>   \n",
       "</tr>\n",
       "<tr>\n",
       "  <th>Covariance Type:</th>     <td>nonrobust</td>     <th>                     </th>     <td> </td>   \n",
       "</tr>\n",
       "</table>\n",
       "<table class=\"simpletable\">\n",
       "<tr>\n",
       "    <td></td>       <th>coef</th>     <th>std err</th>      <th>z</th>      <th>P>|z|</th>  <th>[0.025</th>    <th>0.975]</th>  \n",
       "</tr>\n",
       "<tr>\n",
       "  <th>const</th> <td>   -4.3588</td> <td>    0.087</td> <td>  -50.278</td> <td> 0.000</td> <td>   -4.529</td> <td>   -4.189</td>\n",
       "</tr>\n",
       "<tr>\n",
       "  <th>x1</th>    <td>   -0.0665</td> <td>    0.013</td> <td>   -4.944</td> <td> 0.000</td> <td>   -0.093</td> <td>   -0.040</td>\n",
       "</tr>\n",
       "<tr>\n",
       "  <th>x2</th>    <td>   -0.3954</td> <td>    0.020</td> <td>  -19.563</td> <td> 0.000</td> <td>   -0.435</td> <td>   -0.356</td>\n",
       "</tr>\n",
       "<tr>\n",
       "  <th>x3</th>    <td>    0.2271</td> <td>    0.024</td> <td>    9.661</td> <td> 0.000</td> <td>    0.181</td> <td>    0.273</td>\n",
       "</tr>\n",
       "<tr>\n",
       "  <th>x4</th>    <td>   -0.4272</td> <td>    0.025</td> <td>  -17.053</td> <td> 0.000</td> <td>   -0.476</td> <td>   -0.378</td>\n",
       "</tr>\n",
       "<tr>\n",
       "  <th>x5</th>    <td>   -0.1138</td> <td>    0.031</td> <td>   -3.694</td> <td> 0.000</td> <td>   -0.174</td> <td>   -0.053</td>\n",
       "</tr>\n",
       "<tr>\n",
       "  <th>x6</th>    <td>    0.0859</td> <td>    0.024</td> <td>    3.534</td> <td> 0.000</td> <td>    0.038</td> <td>    0.134</td>\n",
       "</tr>\n",
       "<tr>\n",
       "  <th>x7</th>    <td>   -0.2375</td> <td>    0.027</td> <td>   -8.790</td> <td> 0.000</td> <td>   -0.291</td> <td>   -0.185</td>\n",
       "</tr>\n",
       "<tr>\n",
       "  <th>x8</th>    <td>   -0.4365</td> <td>    0.025</td> <td>  -17.366</td> <td> 0.000</td> <td>   -0.486</td> <td>   -0.387</td>\n",
       "</tr>\n",
       "<tr>\n",
       "  <th>x9</th>    <td>    0.0371</td> <td>    0.038</td> <td>    0.987</td> <td> 0.324</td> <td>   -0.037</td> <td>    0.111</td>\n",
       "</tr>\n",
       "<tr>\n",
       "  <th>x10</th>   <td>    0.3153</td> <td>    0.034</td> <td>    9.309</td> <td> 0.000</td> <td>    0.249</td> <td>    0.382</td>\n",
       "</tr>\n",
       "<tr>\n",
       "  <th>x11</th>   <td>    0.1072</td> <td>    0.036</td> <td>    2.991</td> <td> 0.003</td> <td>    0.037</td> <td>    0.177</td>\n",
       "</tr>\n",
       "<tr>\n",
       "  <th>x12</th>   <td>   -0.0217</td> <td>    0.041</td> <td>   -0.534</td> <td> 0.593</td> <td>   -0.101</td> <td>    0.058</td>\n",
       "</tr>\n",
       "<tr>\n",
       "  <th>x13</th>   <td>   -0.0792</td> <td>    0.029</td> <td>   -2.703</td> <td> 0.007</td> <td>   -0.137</td> <td>   -0.022</td>\n",
       "</tr>\n",
       "<tr>\n",
       "  <th>x14</th>   <td>   -0.0572</td> <td>    0.087</td> <td>   -0.660</td> <td> 0.509</td> <td>   -0.227</td> <td>    0.113</td>\n",
       "</tr>\n",
       "<tr>\n",
       "  <th>x15</th>   <td>   -0.0971</td> <td>    0.038</td> <td>   -2.568</td> <td> 0.010</td> <td>   -0.171</td> <td>   -0.023</td>\n",
       "</tr>\n",
       "<tr>\n",
       "  <th>x16</th>   <td>    0.1749</td> <td>    0.041</td> <td>    4.284</td> <td> 0.000</td> <td>    0.095</td> <td>    0.255</td>\n",
       "</tr>\n",
       "<tr>\n",
       "  <th>x17</th>   <td>   -0.1357</td> <td>    0.065</td> <td>   -2.097</td> <td> 0.036</td> <td>   -0.262</td> <td>   -0.009</td>\n",
       "</tr>\n",
       "<tr>\n",
       "  <th>x18</th>   <td>    0.0214</td> <td>    0.054</td> <td>    0.398</td> <td> 0.691</td> <td>   -0.084</td> <td>    0.127</td>\n",
       "</tr>\n",
       "<tr>\n",
       "  <th>x19</th>   <td>    0.4169</td> <td>    0.027</td> <td>   15.604</td> <td> 0.000</td> <td>    0.365</td> <td>    0.469</td>\n",
       "</tr>\n",
       "<tr>\n",
       "  <th>x20</th>   <td>    0.0052</td> <td>    0.053</td> <td>    0.099</td> <td> 0.921</td> <td>   -0.099</td> <td>    0.109</td>\n",
       "</tr>\n",
       "<tr>\n",
       "  <th>x21</th>   <td>    0.1829</td> <td>    0.110</td> <td>    1.663</td> <td> 0.096</td> <td>   -0.033</td> <td>    0.398</td>\n",
       "</tr>\n",
       "<tr>\n",
       "  <th>x22</th>   <td>   -0.1535</td> <td>    0.072</td> <td>   -2.131</td> <td> 0.033</td> <td>   -0.295</td> <td>   -0.012</td>\n",
       "</tr>\n",
       "<tr>\n",
       "  <th>x23</th>   <td>    0.1045</td> <td>    0.041</td> <td>    2.523</td> <td> 0.012</td> <td>    0.023</td> <td>    0.186</td>\n",
       "</tr>\n",
       "<tr>\n",
       "  <th>x24</th>   <td>   -0.0202</td> <td>    0.057</td> <td>   -0.356</td> <td> 0.722</td> <td>   -0.132</td> <td>    0.091</td>\n",
       "</tr>\n",
       "<tr>\n",
       "  <th>x25</th>   <td>   -0.0019</td> <td>    0.064</td> <td>   -0.031</td> <td> 0.976</td> <td>   -0.127</td> <td>    0.123</td>\n",
       "</tr>\n",
       "<tr>\n",
       "  <th>x26</th>   <td>   -0.0988</td> <td>    0.055</td> <td>   -1.801</td> <td> 0.072</td> <td>   -0.206</td> <td>    0.009</td>\n",
       "</tr>\n",
       "<tr>\n",
       "  <th>x27</th>   <td>   -0.0836</td> <td>    0.051</td> <td>   -1.623</td> <td> 0.105</td> <td>   -0.184</td> <td>    0.017</td>\n",
       "</tr>\n",
       "<tr>\n",
       "  <th>x28</th>   <td>    0.0084</td> <td>    0.058</td> <td>    0.144</td> <td> 0.886</td> <td>   -0.106</td> <td>    0.122</td>\n",
       "</tr>\n",
       "<tr>\n",
       "  <th>x29</th>   <td>   -0.1570</td> <td>    0.218</td> <td>   -0.721</td> <td> 0.471</td> <td>   -0.584</td> <td>    0.270</td>\n",
       "</tr>\n",
       "<tr>\n",
       "  <th>x30</th>   <td>   -0.2518</td> <td>    0.064</td> <td>   -3.909</td> <td> 0.000</td> <td>   -0.378</td> <td>   -0.126</td>\n",
       "</tr>\n",
       "<tr>\n",
       "  <th>x31</th>   <td>   -1.1028</td> <td>    0.999</td> <td>   -1.104</td> <td> 0.270</td> <td>   -3.061</td> <td>    0.856</td>\n",
       "</tr>\n",
       "<tr>\n",
       "  <th>x32</th>   <td>   -0.0832</td> <td>    0.065</td> <td>   -1.275</td> <td> 0.202</td> <td>   -0.211</td> <td>    0.045</td>\n",
       "</tr>\n",
       "<tr>\n",
       "  <th>x33</th>   <td>   -0.2595</td> <td>    0.261</td> <td>   -0.993</td> <td> 0.321</td> <td>   -0.772</td> <td>    0.253</td>\n",
       "</tr>\n",
       "<tr>\n",
       "  <th>x34</th>   <td>   -0.0427</td> <td>    0.133</td> <td>   -0.321</td> <td> 0.748</td> <td>   -0.304</td> <td>    0.218</td>\n",
       "</tr>\n",
       "<tr>\n",
       "  <th>x35</th>   <td>   -0.7987</td> <td>    0.100</td> <td>   -8.009</td> <td> 0.000</td> <td>   -0.994</td> <td>   -0.603</td>\n",
       "</tr>\n",
       "<tr>\n",
       "  <th>x36</th>   <td>    0.0756</td> <td>    0.098</td> <td>    0.771</td> <td> 0.441</td> <td>   -0.117</td> <td>    0.268</td>\n",
       "</tr>\n",
       "<tr>\n",
       "  <th>x37</th>   <td>   -0.2393</td> <td>    0.091</td> <td>   -2.640</td> <td> 0.008</td> <td>   -0.417</td> <td>   -0.062</td>\n",
       "</tr>\n",
       "<tr>\n",
       "  <th>x38</th>   <td>   -0.1516</td> <td>    0.090</td> <td>   -1.682</td> <td> 0.092</td> <td>   -0.328</td> <td>    0.025</td>\n",
       "</tr>\n",
       "<tr>\n",
       "  <th>x39</th>   <td>   -0.4023</td> <td>    0.154</td> <td>   -2.614</td> <td> 0.009</td> <td>   -0.704</td> <td>   -0.101</td>\n",
       "</tr>\n",
       "<tr>\n",
       "  <th>x40</th>   <td>    0.0299</td> <td>    0.053</td> <td>    0.559</td> <td> 0.576</td> <td>   -0.075</td> <td>    0.135</td>\n",
       "</tr>\n",
       "<tr>\n",
       "  <th>x41</th>   <td>   -0.1339</td> <td>    0.058</td> <td>   -2.324</td> <td> 0.020</td> <td>   -0.247</td> <td>   -0.021</td>\n",
       "</tr>\n",
       "<tr>\n",
       "  <th>x42</th>   <td>    0.1441</td> <td>    0.059</td> <td>    2.449</td> <td> 0.014</td> <td>    0.029</td> <td>    0.259</td>\n",
       "</tr>\n",
       "<tr>\n",
       "  <th>x43</th>   <td>   -0.2104</td> <td>    0.085</td> <td>   -2.480</td> <td> 0.013</td> <td>   -0.377</td> <td>   -0.044</td>\n",
       "</tr>\n",
       "<tr>\n",
       "  <th>x44</th>   <td>   -0.0215</td> <td>    0.166</td> <td>   -0.130</td> <td> 0.897</td> <td>   -0.346</td> <td>    0.303</td>\n",
       "</tr>\n",
       "<tr>\n",
       "  <th>x45</th>   <td>   -0.2175</td> <td>    0.056</td> <td>   -3.909</td> <td> 0.000</td> <td>   -0.327</td> <td>   -0.108</td>\n",
       "</tr>\n",
       "<tr>\n",
       "  <th>x46</th>   <td>    0.1197</td> <td>    0.110</td> <td>    1.084</td> <td> 0.278</td> <td>   -0.097</td> <td>    0.336</td>\n",
       "</tr>\n",
       "<tr>\n",
       "  <th>x47</th>   <td>   -0.3975</td> <td>    0.074</td> <td>   -5.350</td> <td> 0.000</td> <td>   -0.543</td> <td>   -0.252</td>\n",
       "</tr>\n",
       "<tr>\n",
       "  <th>x48</th>   <td>   -0.0250</td> <td>    0.120</td> <td>   -0.208</td> <td> 0.836</td> <td>   -0.261</td> <td>    0.211</td>\n",
       "</tr>\n",
       "<tr>\n",
       "  <th>x49</th>   <td>   -0.0662</td> <td>    0.072</td> <td>   -0.924</td> <td> 0.355</td> <td>   -0.207</td> <td>    0.074</td>\n",
       "</tr>\n",
       "<tr>\n",
       "  <th>x50</th>   <td>    0.1321</td> <td>    0.101</td> <td>    1.312</td> <td> 0.190</td> <td>   -0.065</td> <td>    0.329</td>\n",
       "</tr>\n",
       "<tr>\n",
       "  <th>x51</th>   <td>    0.9725</td> <td>    0.997</td> <td>    0.975</td> <td> 0.329</td> <td>   -0.982</td> <td>    2.927</td>\n",
       "</tr>\n",
       "<tr>\n",
       "  <th>x52</th>   <td>    0.0658</td> <td>    0.269</td> <td>    0.244</td> <td> 0.807</td> <td>   -0.462</td> <td>    0.594</td>\n",
       "</tr>\n",
       "<tr>\n",
       "  <th>x53</th>   <td>   -0.0469</td> <td>    0.101</td> <td>   -0.464</td> <td> 0.643</td> <td>   -0.245</td> <td>    0.151</td>\n",
       "</tr>\n",
       "<tr>\n",
       "  <th>x54</th>   <td>    0.0977</td> <td>    0.103</td> <td>    0.950</td> <td> 0.342</td> <td>   -0.104</td> <td>    0.299</td>\n",
       "</tr>\n",
       "<tr>\n",
       "  <th>x55</th>   <td>   -0.2674</td> <td>    0.041</td> <td>   -6.501</td> <td> 0.000</td> <td>   -0.348</td> <td>   -0.187</td>\n",
       "</tr>\n",
       "<tr>\n",
       "  <th>x56</th>   <td>   -0.0753</td> <td>    0.062</td> <td>   -1.213</td> <td> 0.225</td> <td>   -0.197</td> <td>    0.046</td>\n",
       "</tr>\n",
       "<tr>\n",
       "  <th>x57</th>   <td>    0.0136</td> <td>    0.068</td> <td>    0.199</td> <td> 0.842</td> <td>   -0.121</td> <td>    0.148</td>\n",
       "</tr>\n",
       "<tr>\n",
       "  <th>x58</th>   <td>    0.3088</td> <td>    0.079</td> <td>    3.897</td> <td> 0.000</td> <td>    0.153</td> <td>    0.464</td>\n",
       "</tr>\n",
       "<tr>\n",
       "  <th>x59</th>   <td>    0.1554</td> <td>    0.071</td> <td>    2.197</td> <td> 0.028</td> <td>    0.017</td> <td>    0.294</td>\n",
       "</tr>\n",
       "<tr>\n",
       "  <th>x60</th>   <td>   -0.1298</td> <td>    0.058</td> <td>   -2.249</td> <td> 0.025</td> <td>   -0.243</td> <td>   -0.017</td>\n",
       "</tr>\n",
       "<tr>\n",
       "  <th>x61</th>   <td>   -0.1431</td> <td>    0.064</td> <td>   -2.229</td> <td> 0.026</td> <td>   -0.269</td> <td>   -0.017</td>\n",
       "</tr>\n",
       "<tr>\n",
       "  <th>x62</th>   <td>   -0.2750</td> <td>    0.064</td> <td>   -4.318</td> <td> 0.000</td> <td>   -0.400</td> <td>   -0.150</td>\n",
       "</tr>\n",
       "<tr>\n",
       "  <th>x63</th>   <td>    0.1789</td> <td>    0.064</td> <td>    2.814</td> <td> 0.005</td> <td>    0.054</td> <td>    0.304</td>\n",
       "</tr>\n",
       "<tr>\n",
       "  <th>x64</th>   <td>   -0.0914</td> <td>    0.066</td> <td>   -1.393</td> <td> 0.164</td> <td>   -0.220</td> <td>    0.037</td>\n",
       "</tr>\n",
       "<tr>\n",
       "  <th>x65</th>   <td>    0.2360</td> <td>    0.079</td> <td>    2.979</td> <td> 0.003</td> <td>    0.081</td> <td>    0.391</td>\n",
       "</tr>\n",
       "<tr>\n",
       "  <th>x66</th>   <td>   -0.3555</td> <td>    0.068</td> <td>   -5.199</td> <td> 0.000</td> <td>   -0.490</td> <td>   -0.222</td>\n",
       "</tr>\n",
       "<tr>\n",
       "  <th>x67</th>   <td>    0.1888</td> <td>    0.062</td> <td>    3.023</td> <td> 0.003</td> <td>    0.066</td> <td>    0.311</td>\n",
       "</tr>\n",
       "<tr>\n",
       "  <th>x68</th>   <td>    0.2527</td> <td>    0.068</td> <td>    3.697</td> <td> 0.000</td> <td>    0.119</td> <td>    0.387</td>\n",
       "</tr>\n",
       "<tr>\n",
       "  <th>x69</th>   <td>    0.2037</td> <td>    0.072</td> <td>    2.828</td> <td> 0.005</td> <td>    0.063</td> <td>    0.345</td>\n",
       "</tr>\n",
       "<tr>\n",
       "  <th>x70</th>   <td>   -0.1969</td> <td>    0.066</td> <td>   -2.996</td> <td> 0.003</td> <td>   -0.326</td> <td>   -0.068</td>\n",
       "</tr>\n",
       "<tr>\n",
       "  <th>x71</th>   <td>    0.3702</td> <td>    0.074</td> <td>    5.028</td> <td> 0.000</td> <td>    0.226</td> <td>    0.514</td>\n",
       "</tr>\n",
       "<tr>\n",
       "  <th>x72</th>   <td>   -0.0501</td> <td>    0.072</td> <td>   -0.701</td> <td> 0.484</td> <td>   -0.190</td> <td>    0.090</td>\n",
       "</tr>\n",
       "<tr>\n",
       "  <th>x73</th>   <td>    0.1133</td> <td>    0.075</td> <td>    1.512</td> <td> 0.131</td> <td>   -0.034</td> <td>    0.260</td>\n",
       "</tr>\n",
       "<tr>\n",
       "  <th>x74</th>   <td>   -0.0434</td> <td>    0.072</td> <td>   -0.602</td> <td> 0.547</td> <td>   -0.185</td> <td>    0.098</td>\n",
       "</tr>\n",
       "<tr>\n",
       "  <th>x75</th>   <td>   -0.0193</td> <td>    0.091</td> <td>   -0.212</td> <td> 0.832</td> <td>   -0.198</td> <td>    0.159</td>\n",
       "</tr>\n",
       "<tr>\n",
       "  <th>x76</th>   <td>    0.1761</td> <td>    0.081</td> <td>    2.187</td> <td> 0.029</td> <td>    0.018</td> <td>    0.334</td>\n",
       "</tr>\n",
       "<tr>\n",
       "  <th>x77</th>   <td>    0.0028</td> <td>    0.093</td> <td>    0.030</td> <td> 0.976</td> <td>   -0.180</td> <td>    0.186</td>\n",
       "</tr>\n",
       "<tr>\n",
       "  <th>x78</th>   <td>   -0.0509</td> <td>    0.108</td> <td>   -0.473</td> <td> 0.636</td> <td>   -0.262</td> <td>    0.160</td>\n",
       "</tr>\n",
       "<tr>\n",
       "  <th>x79</th>   <td>    0.0182</td> <td>    0.074</td> <td>    0.247</td> <td> 0.805</td> <td>   -0.127</td> <td>    0.163</td>\n",
       "</tr>\n",
       "<tr>\n",
       "  <th>x80</th>   <td>    0.0402</td> <td>    0.065</td> <td>    0.618</td> <td> 0.537</td> <td>   -0.087</td> <td>    0.168</td>\n",
       "</tr>\n",
       "<tr>\n",
       "  <th>x81</th>   <td>   -0.0487</td> <td>    0.083</td> <td>   -0.589</td> <td> 0.556</td> <td>   -0.211</td> <td>    0.113</td>\n",
       "</tr>\n",
       "<tr>\n",
       "  <th>x82</th>   <td>   -0.1926</td> <td>    0.129</td> <td>   -1.496</td> <td> 0.135</td> <td>   -0.445</td> <td>    0.060</td>\n",
       "</tr>\n",
       "<tr>\n",
       "  <th>x83</th>   <td>    0.0287</td> <td>    0.073</td> <td>    0.392</td> <td> 0.695</td> <td>   -0.115</td> <td>    0.172</td>\n",
       "</tr>\n",
       "<tr>\n",
       "  <th>x84</th>   <td>    0.2315</td> <td>    0.058</td> <td>    3.993</td> <td> 0.000</td> <td>    0.118</td> <td>    0.345</td>\n",
       "</tr>\n",
       "<tr>\n",
       "  <th>x85</th>   <td>   -0.3619</td> <td>    0.087</td> <td>   -4.142</td> <td> 0.000</td> <td>   -0.533</td> <td>   -0.191</td>\n",
       "</tr>\n",
       "<tr>\n",
       "  <th>x86</th>   <td>   -0.1439</td> <td>    0.077</td> <td>   -1.877</td> <td> 0.060</td> <td>   -0.294</td> <td>    0.006</td>\n",
       "</tr>\n",
       "<tr>\n",
       "  <th>x87</th>   <td>    0.1339</td> <td>    0.091</td> <td>    1.470</td> <td> 0.142</td> <td>   -0.045</td> <td>    0.312</td>\n",
       "</tr>\n",
       "<tr>\n",
       "  <th>x88</th>   <td>    0.2218</td> <td>    0.070</td> <td>    3.188</td> <td> 0.001</td> <td>    0.085</td> <td>    0.358</td>\n",
       "</tr>\n",
       "<tr>\n",
       "  <th>x89</th>   <td>    0.0952</td> <td>    0.076</td> <td>    1.247</td> <td> 0.212</td> <td>   -0.054</td> <td>    0.245</td>\n",
       "</tr>\n",
       "<tr>\n",
       "  <th>x90</th>   <td>   -0.0418</td> <td>    0.088</td> <td>   -0.474</td> <td> 0.635</td> <td>   -0.215</td> <td>    0.131</td>\n",
       "</tr>\n",
       "<tr>\n",
       "  <th>x91</th>   <td>   -0.1002</td> <td>    0.090</td> <td>   -1.116</td> <td> 0.264</td> <td>   -0.276</td> <td>    0.076</td>\n",
       "</tr>\n",
       "<tr>\n",
       "  <th>x92</th>   <td>   -0.1869</td> <td>    0.096</td> <td>   -1.955</td> <td> 0.051</td> <td>   -0.374</td> <td>    0.000</td>\n",
       "</tr>\n",
       "<tr>\n",
       "  <th>x93</th>   <td>    0.0621</td> <td>    0.099</td> <td>    0.629</td> <td> 0.529</td> <td>   -0.131</td> <td>    0.256</td>\n",
       "</tr>\n",
       "<tr>\n",
       "  <th>x94</th>   <td>   -0.1849</td> <td>    0.097</td> <td>   -1.909</td> <td> 0.056</td> <td>   -0.375</td> <td>    0.005</td>\n",
       "</tr>\n",
       "<tr>\n",
       "  <th>x95</th>   <td>    0.1268</td> <td>    0.088</td> <td>    1.448</td> <td> 0.148</td> <td>   -0.045</td> <td>    0.298</td>\n",
       "</tr>\n",
       "<tr>\n",
       "  <th>x96</th>   <td>   -0.0414</td> <td>    0.099</td> <td>   -0.420</td> <td> 0.675</td> <td>   -0.235</td> <td>    0.152</td>\n",
       "</tr>\n",
       "<tr>\n",
       "  <th>x97</th>   <td>   -0.0752</td> <td>    0.100</td> <td>   -0.752</td> <td> 0.452</td> <td>   -0.271</td> <td>    0.121</td>\n",
       "</tr>\n",
       "<tr>\n",
       "  <th>x98</th>   <td>    0.0678</td> <td>    0.088</td> <td>    0.773</td> <td> 0.439</td> <td>   -0.104</td> <td>    0.240</td>\n",
       "</tr>\n",
       "<tr>\n",
       "  <th>x99</th>   <td>    0.0140</td> <td>    0.085</td> <td>    0.165</td> <td> 0.869</td> <td>   -0.153</td> <td>    0.181</td>\n",
       "</tr>\n",
       "<tr>\n",
       "  <th>x100</th>  <td>   -0.1259</td> <td>    0.087</td> <td>   -1.446</td> <td> 0.148</td> <td>   -0.297</td> <td>    0.045</td>\n",
       "</tr>\n",
       "</table>"
      ],
      "text/plain": [
       "<class 'statsmodels.iolib.summary.Summary'>\n",
       "\"\"\"\n",
       "                 Generalized Linear Model Regression Results                  \n",
       "==============================================================================\n",
       "Dep. Variable:      churn_probability   No. Observations:                20970\n",
       "Model:                            GLM   Df Residuals:                    20869\n",
       "Model Family:                Binomial   Df Model:                          100\n",
       "Link Function:                  logit   Scale:                          1.0000\n",
       "Method:                          IRLS   Log-Likelihood:                -3704.5\n",
       "Date:                Wed, 11 May 2022   Deviance:                       7409.0\n",
       "Time:                        07:15:32   Pearson chi2:                 6.84e+05\n",
       "No. Iterations:                    11                                         \n",
       "Covariance Type:            nonrobust                                         \n",
       "==============================================================================\n",
       "                 coef    std err          z      P>|z|      [0.025      0.975]\n",
       "------------------------------------------------------------------------------\n",
       "const         -4.3588      0.087    -50.278      0.000      -4.529      -4.189\n",
       "x1            -0.0665      0.013     -4.944      0.000      -0.093      -0.040\n",
       "x2            -0.3954      0.020    -19.563      0.000      -0.435      -0.356\n",
       "x3             0.2271      0.024      9.661      0.000       0.181       0.273\n",
       "x4            -0.4272      0.025    -17.053      0.000      -0.476      -0.378\n",
       "x5            -0.1138      0.031     -3.694      0.000      -0.174      -0.053\n",
       "x6             0.0859      0.024      3.534      0.000       0.038       0.134\n",
       "x7            -0.2375      0.027     -8.790      0.000      -0.291      -0.185\n",
       "x8            -0.4365      0.025    -17.366      0.000      -0.486      -0.387\n",
       "x9             0.0371      0.038      0.987      0.324      -0.037       0.111\n",
       "x10            0.3153      0.034      9.309      0.000       0.249       0.382\n",
       "x11            0.1072      0.036      2.991      0.003       0.037       0.177\n",
       "x12           -0.0217      0.041     -0.534      0.593      -0.101       0.058\n",
       "x13           -0.0792      0.029     -2.703      0.007      -0.137      -0.022\n",
       "x14           -0.0572      0.087     -0.660      0.509      -0.227       0.113\n",
       "x15           -0.0971      0.038     -2.568      0.010      -0.171      -0.023\n",
       "x16            0.1749      0.041      4.284      0.000       0.095       0.255\n",
       "x17           -0.1357      0.065     -2.097      0.036      -0.262      -0.009\n",
       "x18            0.0214      0.054      0.398      0.691      -0.084       0.127\n",
       "x19            0.4169      0.027     15.604      0.000       0.365       0.469\n",
       "x20            0.0052      0.053      0.099      0.921      -0.099       0.109\n",
       "x21            0.1829      0.110      1.663      0.096      -0.033       0.398\n",
       "x22           -0.1535      0.072     -2.131      0.033      -0.295      -0.012\n",
       "x23            0.1045      0.041      2.523      0.012       0.023       0.186\n",
       "x24           -0.0202      0.057     -0.356      0.722      -0.132       0.091\n",
       "x25           -0.0019      0.064     -0.031      0.976      -0.127       0.123\n",
       "x26           -0.0988      0.055     -1.801      0.072      -0.206       0.009\n",
       "x27           -0.0836      0.051     -1.623      0.105      -0.184       0.017\n",
       "x28            0.0084      0.058      0.144      0.886      -0.106       0.122\n",
       "x29           -0.1570      0.218     -0.721      0.471      -0.584       0.270\n",
       "x30           -0.2518      0.064     -3.909      0.000      -0.378      -0.126\n",
       "x31           -1.1028      0.999     -1.104      0.270      -3.061       0.856\n",
       "x32           -0.0832      0.065     -1.275      0.202      -0.211       0.045\n",
       "x33           -0.2595      0.261     -0.993      0.321      -0.772       0.253\n",
       "x34           -0.0427      0.133     -0.321      0.748      -0.304       0.218\n",
       "x35           -0.7987      0.100     -8.009      0.000      -0.994      -0.603\n",
       "x36            0.0756      0.098      0.771      0.441      -0.117       0.268\n",
       "x37           -0.2393      0.091     -2.640      0.008      -0.417      -0.062\n",
       "x38           -0.1516      0.090     -1.682      0.092      -0.328       0.025\n",
       "x39           -0.4023      0.154     -2.614      0.009      -0.704      -0.101\n",
       "x40            0.0299      0.053      0.559      0.576      -0.075       0.135\n",
       "x41           -0.1339      0.058     -2.324      0.020      -0.247      -0.021\n",
       "x42            0.1441      0.059      2.449      0.014       0.029       0.259\n",
       "x43           -0.2104      0.085     -2.480      0.013      -0.377      -0.044\n",
       "x44           -0.0215      0.166     -0.130      0.897      -0.346       0.303\n",
       "x45           -0.2175      0.056     -3.909      0.000      -0.327      -0.108\n",
       "x46            0.1197      0.110      1.084      0.278      -0.097       0.336\n",
       "x47           -0.3975      0.074     -5.350      0.000      -0.543      -0.252\n",
       "x48           -0.0250      0.120     -0.208      0.836      -0.261       0.211\n",
       "x49           -0.0662      0.072     -0.924      0.355      -0.207       0.074\n",
       "x50            0.1321      0.101      1.312      0.190      -0.065       0.329\n",
       "x51            0.9725      0.997      0.975      0.329      -0.982       2.927\n",
       "x52            0.0658      0.269      0.244      0.807      -0.462       0.594\n",
       "x53           -0.0469      0.101     -0.464      0.643      -0.245       0.151\n",
       "x54            0.0977      0.103      0.950      0.342      -0.104       0.299\n",
       "x55           -0.2674      0.041     -6.501      0.000      -0.348      -0.187\n",
       "x56           -0.0753      0.062     -1.213      0.225      -0.197       0.046\n",
       "x57            0.0136      0.068      0.199      0.842      -0.121       0.148\n",
       "x58            0.3088      0.079      3.897      0.000       0.153       0.464\n",
       "x59            0.1554      0.071      2.197      0.028       0.017       0.294\n",
       "x60           -0.1298      0.058     -2.249      0.025      -0.243      -0.017\n",
       "x61           -0.1431      0.064     -2.229      0.026      -0.269      -0.017\n",
       "x62           -0.2750      0.064     -4.318      0.000      -0.400      -0.150\n",
       "x63            0.1789      0.064      2.814      0.005       0.054       0.304\n",
       "x64           -0.0914      0.066     -1.393      0.164      -0.220       0.037\n",
       "x65            0.2360      0.079      2.979      0.003       0.081       0.391\n",
       "x66           -0.3555      0.068     -5.199      0.000      -0.490      -0.222\n",
       "x67            0.1888      0.062      3.023      0.003       0.066       0.311\n",
       "x68            0.2527      0.068      3.697      0.000       0.119       0.387\n",
       "x69            0.2037      0.072      2.828      0.005       0.063       0.345\n",
       "x70           -0.1969      0.066     -2.996      0.003      -0.326      -0.068\n",
       "x71            0.3702      0.074      5.028      0.000       0.226       0.514\n",
       "x72           -0.0501      0.072     -0.701      0.484      -0.190       0.090\n",
       "x73            0.1133      0.075      1.512      0.131      -0.034       0.260\n",
       "x74           -0.0434      0.072     -0.602      0.547      -0.185       0.098\n",
       "x75           -0.0193      0.091     -0.212      0.832      -0.198       0.159\n",
       "x76            0.1761      0.081      2.187      0.029       0.018       0.334\n",
       "x77            0.0028      0.093      0.030      0.976      -0.180       0.186\n",
       "x78           -0.0509      0.108     -0.473      0.636      -0.262       0.160\n",
       "x79            0.0182      0.074      0.247      0.805      -0.127       0.163\n",
       "x80            0.0402      0.065      0.618      0.537      -0.087       0.168\n",
       "x81           -0.0487      0.083     -0.589      0.556      -0.211       0.113\n",
       "x82           -0.1926      0.129     -1.496      0.135      -0.445       0.060\n",
       "x83            0.0287      0.073      0.392      0.695      -0.115       0.172\n",
       "x84            0.2315      0.058      3.993      0.000       0.118       0.345\n",
       "x85           -0.3619      0.087     -4.142      0.000      -0.533      -0.191\n",
       "x86           -0.1439      0.077     -1.877      0.060      -0.294       0.006\n",
       "x87            0.1339      0.091      1.470      0.142      -0.045       0.312\n",
       "x88            0.2218      0.070      3.188      0.001       0.085       0.358\n",
       "x89            0.0952      0.076      1.247      0.212      -0.054       0.245\n",
       "x90           -0.0418      0.088     -0.474      0.635      -0.215       0.131\n",
       "x91           -0.1002      0.090     -1.116      0.264      -0.276       0.076\n",
       "x92           -0.1869      0.096     -1.955      0.051      -0.374       0.000\n",
       "x93            0.0621      0.099      0.629      0.529      -0.131       0.256\n",
       "x94           -0.1849      0.097     -1.909      0.056      -0.375       0.005\n",
       "x95            0.1268      0.088      1.448      0.148      -0.045       0.298\n",
       "x96           -0.0414      0.099     -0.420      0.675      -0.235       0.152\n",
       "x97           -0.0752      0.100     -0.752      0.452      -0.271       0.121\n",
       "x98            0.0678      0.088      0.773      0.439      -0.104       0.240\n",
       "x99            0.0140      0.085      0.165      0.869      -0.153       0.181\n",
       "x100          -0.1259      0.087     -1.446      0.148      -0.297       0.045\n",
       "==============================================================================\n",
       "\"\"\""
      ]
     },
     "execution_count": 59,
     "metadata": {},
     "output_type": "execute_result"
    }
   ],
   "source": [
    "import statsmodels.api as sm\n",
    "X_lr = sm.add_constant(X1)\n",
    "LR1 = sm.GLM(y,X_lr,family=sm.families.Binomial())\n",
    "LR1 = LR1.fit()\n",
    "LR1.summary()"
   ]
  },
  {
   "cell_type": "markdown",
   "id": "212aad4d",
   "metadata": {},
   "source": [
    "#### predicting cut off for different cutoffs ranging from 0.1 to 1\n",
    "\n"
   ]
  },
  {
   "cell_type": "code",
   "execution_count": 60,
   "id": "dbd4c9d6",
   "metadata": {},
   "outputs": [],
   "source": [
    "y_pred = LR1.predict(X_lr)"
   ]
  },
  {
   "cell_type": "code",
   "execution_count": 61,
   "id": "88b73543",
   "metadata": {},
   "outputs": [
    {
     "data": {
      "text/html": [
       "<div>\n",
       "<style scoped>\n",
       "    .dataframe tbody tr th:only-of-type {\n",
       "        vertical-align: middle;\n",
       "    }\n",
       "\n",
       "    .dataframe tbody tr th {\n",
       "        vertical-align: top;\n",
       "    }\n",
       "\n",
       "    .dataframe thead th {\n",
       "        text-align: right;\n",
       "    }\n",
       "</style>\n",
       "<table border=\"1\" class=\"dataframe\">\n",
       "  <thead>\n",
       "    <tr style=\"text-align: right;\">\n",
       "      <th></th>\n",
       "      <th>Churn</th>\n",
       "      <th>Prob</th>\n",
       "      <th>0.1</th>\n",
       "      <th>0.2</th>\n",
       "      <th>0.3</th>\n",
       "      <th>0.4</th>\n",
       "      <th>0.5</th>\n",
       "      <th>0.6</th>\n",
       "      <th>0.7</th>\n",
       "      <th>0.8</th>\n",
       "      <th>0.9</th>\n",
       "    </tr>\n",
       "  </thead>\n",
       "  <tbody>\n",
       "    <tr>\n",
       "      <th>4</th>\n",
       "      <td>0</td>\n",
       "      <td>0.060990</td>\n",
       "      <td>0</td>\n",
       "      <td>0</td>\n",
       "      <td>0</td>\n",
       "      <td>0</td>\n",
       "      <td>0</td>\n",
       "      <td>0</td>\n",
       "      <td>0</td>\n",
       "      <td>0</td>\n",
       "      <td>0</td>\n",
       "    </tr>\n",
       "    <tr>\n",
       "      <th>15</th>\n",
       "      <td>0</td>\n",
       "      <td>0.000462</td>\n",
       "      <td>0</td>\n",
       "      <td>0</td>\n",
       "      <td>0</td>\n",
       "      <td>0</td>\n",
       "      <td>0</td>\n",
       "      <td>0</td>\n",
       "      <td>0</td>\n",
       "      <td>0</td>\n",
       "      <td>0</td>\n",
       "    </tr>\n",
       "    <tr>\n",
       "      <th>23</th>\n",
       "      <td>0</td>\n",
       "      <td>0.132517</td>\n",
       "      <td>1</td>\n",
       "      <td>0</td>\n",
       "      <td>0</td>\n",
       "      <td>0</td>\n",
       "      <td>0</td>\n",
       "      <td>0</td>\n",
       "      <td>0</td>\n",
       "      <td>0</td>\n",
       "      <td>0</td>\n",
       "    </tr>\n",
       "    <tr>\n",
       "      <th>24</th>\n",
       "      <td>0</td>\n",
       "      <td>0.053955</td>\n",
       "      <td>0</td>\n",
       "      <td>0</td>\n",
       "      <td>0</td>\n",
       "      <td>0</td>\n",
       "      <td>0</td>\n",
       "      <td>0</td>\n",
       "      <td>0</td>\n",
       "      <td>0</td>\n",
       "      <td>0</td>\n",
       "    </tr>\n",
       "    <tr>\n",
       "      <th>27</th>\n",
       "      <td>0</td>\n",
       "      <td>0.005100</td>\n",
       "      <td>0</td>\n",
       "      <td>0</td>\n",
       "      <td>0</td>\n",
       "      <td>0</td>\n",
       "      <td>0</td>\n",
       "      <td>0</td>\n",
       "      <td>0</td>\n",
       "      <td>0</td>\n",
       "      <td>0</td>\n",
       "    </tr>\n",
       "  </tbody>\n",
       "</table>\n",
       "</div>"
      ],
      "text/plain": [
       "    Churn      Prob  0.1  0.2  0.3  0.4  0.5  0.6  0.7  0.8  0.9\n",
       "4       0  0.060990    0    0    0    0    0    0    0    0    0\n",
       "15      0  0.000462    0    0    0    0    0    0    0    0    0\n",
       "23      0  0.132517    1    0    0    0    0    0    0    0    0\n",
       "24      0  0.053955    0    0    0    0    0    0    0    0    0\n",
       "27      0  0.005100    0    0    0    0    0    0    0    0    0"
      ]
     },
     "execution_count": 61,
     "metadata": {},
     "output_type": "execute_result"
    }
   ],
   "source": [
    "# Predicting Churn Probability for different cut-offs\n",
    "lst = [0.1,0.2,0.3,0.4,0.5,0.6,0.7,0.8,0.9]\n",
    "cutoff = pd.DataFrame()\n",
    "cutoff['Churn'] = y\n",
    "cutoff['Prob'] = y_pred\n",
    "for i in lst:\n",
    "    cutoff[i] = cutoff['Prob'].apply(lambda x: 0 if x<i else 1)\n",
    "cutoff.head()"
   ]
  },
  {
   "cell_type": "markdown",
   "id": "194ff1a9",
   "metadata": {},
   "source": [
    "### scoring metrics with cutt off"
   ]
  },
  {
   "cell_type": "code",
   "execution_count": 62,
   "id": "618da2be",
   "metadata": {},
   "outputs": [
    {
     "data": {
      "text/html": [
       "<div>\n",
       "<style scoped>\n",
       "    .dataframe tbody tr th:only-of-type {\n",
       "        vertical-align: middle;\n",
       "    }\n",
       "\n",
       "    .dataframe tbody tr th {\n",
       "        vertical-align: top;\n",
       "    }\n",
       "\n",
       "    .dataframe thead th {\n",
       "        text-align: right;\n",
       "    }\n",
       "</style>\n",
       "<table border=\"1\" class=\"dataframe\">\n",
       "  <thead>\n",
       "    <tr style=\"text-align: right;\">\n",
       "      <th></th>\n",
       "      <th>Cut-off</th>\n",
       "      <th>accuracy</th>\n",
       "      <th>sensitivity</th>\n",
       "      <th>specificity</th>\n",
       "    </tr>\n",
       "  </thead>\n",
       "  <tbody>\n",
       "    <tr>\n",
       "      <th>0</th>\n",
       "      <td>0.1</td>\n",
       "      <td>0.848546</td>\n",
       "      <td>0.826112</td>\n",
       "      <td>0.850564</td>\n",
       "    </tr>\n",
       "    <tr>\n",
       "      <th>1</th>\n",
       "      <td>0.2</td>\n",
       "      <td>0.909728</td>\n",
       "      <td>0.718082</td>\n",
       "      <td>0.926971</td>\n",
       "    </tr>\n",
       "    <tr>\n",
       "      <th>2</th>\n",
       "      <td>0.3</td>\n",
       "      <td>0.926276</td>\n",
       "      <td>0.602542</td>\n",
       "      <td>0.955403</td>\n",
       "    </tr>\n",
       "    <tr>\n",
       "      <th>3</th>\n",
       "      <td>0.4</td>\n",
       "      <td>0.930854</td>\n",
       "      <td>0.453495</td>\n",
       "      <td>0.973803</td>\n",
       "    </tr>\n",
       "    <tr>\n",
       "      <th>4</th>\n",
       "      <td>0.5</td>\n",
       "      <td>0.930520</td>\n",
       "      <td>0.321779</td>\n",
       "      <td>0.985290</td>\n",
       "    </tr>\n",
       "    <tr>\n",
       "      <th>5</th>\n",
       "      <td>0.6</td>\n",
       "      <td>0.929804</td>\n",
       "      <td>0.235702</td>\n",
       "      <td>0.992255</td>\n",
       "    </tr>\n",
       "    <tr>\n",
       "      <th>6</th>\n",
       "      <td>0.7</td>\n",
       "      <td>0.927039</td>\n",
       "      <td>0.150780</td>\n",
       "      <td>0.996881</td>\n",
       "    </tr>\n",
       "    <tr>\n",
       "      <th>7</th>\n",
       "      <td>0.8</td>\n",
       "      <td>0.922127</td>\n",
       "      <td>0.065280</td>\n",
       "      <td>0.999220</td>\n",
       "    </tr>\n",
       "    <tr>\n",
       "      <th>8</th>\n",
       "      <td>0.9</td>\n",
       "      <td>0.919027</td>\n",
       "      <td>0.020797</td>\n",
       "      <td>0.999844</td>\n",
       "    </tr>\n",
       "  </tbody>\n",
       "</table>\n",
       "</div>"
      ],
      "text/plain": [
       "   Cut-off  accuracy  sensitivity  specificity\n",
       "0      0.1  0.848546     0.826112     0.850564\n",
       "1      0.2  0.909728     0.718082     0.926971\n",
       "2      0.3  0.926276     0.602542     0.955403\n",
       "3      0.4  0.930854     0.453495     0.973803\n",
       "4      0.5  0.930520     0.321779     0.985290\n",
       "5      0.6  0.929804     0.235702     0.992255\n",
       "6      0.7  0.927039     0.150780     0.996881\n",
       "7      0.8  0.922127     0.065280     0.999220\n",
       "8      0.9  0.919027     0.020797     0.999844"
      ]
     },
     "execution_count": 62,
     "metadata": {},
     "output_type": "execute_result"
    }
   ],
   "source": [
    "\n",
    "from sklearn.metrics import confusion_matrix,accuracy_score\n",
    "sens = pd.DataFrame()\n",
    "sens['Cut-off'] = lst\n",
    "sens['accuracy'] = [accuracy_score(cutoff['Churn'],cutoff[i]) for i in lst]\n",
    "confusion = [confusion_matrix(cutoff['Churn'],cutoff[i]) for i in lst]\n",
    "sensitivity = [confusion[i][1,1]/(confusion[i][1,1]+confusion[i][1,0]) for i in range(9)]\n",
    "sens['sensitivity'] = sensitivity\n",
    "specificity = [confusion[i][0,0]/(confusion[i][0,0]+confusion[i][0,1]) for i in range(9)]\n",
    "sens['specificity'] = specificity\n",
    "sens"
   ]
  },
  {
   "cell_type": "code",
   "execution_count": 63,
   "id": "abe65708",
   "metadata": {},
   "outputs": [
    {
     "data": {
      "image/png": "[encoded data removed]",
      "text/plain": [
       "<Figure size 432x288 with 1 Axes>"
      ]
     },
     "metadata": {
      "needs_background": "light"
     },
     "output_type": "display_data"
    }
   ],
   "source": [
    "\n",
    "sens.plot.line(x='Cut-off', y=['accuracy','sensitivity','specificity'])\n",
    "plt.show()"
   ]
  },
  {
   "cell_type": "code",
   "execution_count": 64,
   "id": "8d5f567c",
   "metadata": {},
   "outputs": [
    {
     "data": {
      "text/html": [
       "<div>\n",
       "<style scoped>\n",
       "    .dataframe tbody tr th:only-of-type {\n",
       "        vertical-align: middle;\n",
       "    }\n",
       "\n",
       "    .dataframe tbody tr th {\n",
       "        vertical-align: top;\n",
       "    }\n",
       "\n",
       "    .dataframe thead th {\n",
       "        text-align: right;\n",
       "    }\n",
       "</style>\n",
       "<table border=\"1\" class=\"dataframe\">\n",
       "  <thead>\n",
       "    <tr style=\"text-align: right;\">\n",
       "      <th></th>\n",
       "      <th>Churn</th>\n",
       "      <th>Prob</th>\n",
       "      <th>Predicted</th>\n",
       "    </tr>\n",
       "  </thead>\n",
       "  <tbody>\n",
       "    <tr>\n",
       "      <th>4</th>\n",
       "      <td>0</td>\n",
       "      <td>0.060990</td>\n",
       "      <td>0</td>\n",
       "    </tr>\n",
       "    <tr>\n",
       "      <th>15</th>\n",
       "      <td>0</td>\n",
       "      <td>0.000462</td>\n",
       "      <td>0</td>\n",
       "    </tr>\n",
       "    <tr>\n",
       "      <th>23</th>\n",
       "      <td>0</td>\n",
       "      <td>0.132517</td>\n",
       "      <td>0</td>\n",
       "    </tr>\n",
       "    <tr>\n",
       "      <th>24</th>\n",
       "      <td>0</td>\n",
       "      <td>0.053955</td>\n",
       "      <td>0</td>\n",
       "    </tr>\n",
       "    <tr>\n",
       "      <th>27</th>\n",
       "      <td>0</td>\n",
       "      <td>0.005100</td>\n",
       "      <td>0</td>\n",
       "    </tr>\n",
       "  </tbody>\n",
       "</table>\n",
       "</div>"
      ],
      "text/plain": [
       "    Churn      Prob  Predicted\n",
       "4       0  0.060990          0\n",
       "15      0  0.000462          0\n",
       "23      0  0.132517          0\n",
       "24      0  0.053955          0\n",
       "27      0  0.005100          0"
      ]
     },
     "execution_count": 64,
     "metadata": {},
     "output_type": "execute_result"
    }
   ],
   "source": [
    "\n",
    "result = pd.DataFrame({'Churn':y,'Prob':y_pred})\n",
    "result['Predicted'] = result['Prob'].apply(lambda x: 0 if x<0.4 else 1)\n",
    "result.head()"
   ]
  },
  {
   "cell_type": "markdown",
   "id": "0455d301",
   "metadata": {},
   "source": [
    "### Accuracy and F1-score for logistic regression"
   ]
  },
  {
   "cell_type": "code",
   "execution_count": 65,
   "id": "9c2d0c56",
   "metadata": {},
   "outputs": [
    {
     "name": "stdout",
     "output_type": "stream",
     "text": [
      "              precision    recall  f1-score   support\n",
      "\n",
      "           0       0.95      0.97      0.96     19239\n",
      "           1       0.61      0.45      0.52      1731\n",
      "\n",
      "    accuracy                           0.93     20970\n",
      "   macro avg       0.78      0.71      0.74     20970\n",
      "weighted avg       0.92      0.93      0.93     20970\n",
      "\n"
     ]
    }
   ],
   "source": [
    "\n",
    "result = result.drop('Prob',axis=1)\n",
    "from sklearn.metrics import classification_report\n",
    "print(classification_report(result['Churn'],result['Predicted']))"
   ]
  },
  {
   "cell_type": "markdown",
   "id": "af801467",
   "metadata": {},
   "source": [
    "### confusion matrix - Logistic regression"
   ]
  },
  {
   "cell_type": "code",
   "execution_count": 66,
   "id": "3f4cb939",
   "metadata": {},
   "outputs": [
    {
     "name": "stdout",
     "output_type": "stream",
     "text": [
      "[[18735   504]\n",
      " [  946   785]]\n"
     ]
    }
   ],
   "source": [
    "\n",
    "from sklearn.metrics import confusion_matrix,accuracy_score\n",
    "print(confusion_matrix(result['Churn'],result['Predicted']))"
   ]
  },
  {
   "cell_type": "markdown",
   "id": "aa342a8d",
   "metadata": {},
   "source": [
    "# Random Forest Classifier"
   ]
  },
  {
   "cell_type": "code",
   "execution_count": 67,
   "id": "a090c6a9",
   "metadata": {},
   "outputs": [
    {
     "data": {
      "text/plain": [
       "RandomForestClassifier(random_state=100)"
      ]
     },
     "execution_count": 67,
     "metadata": {},
     "output_type": "execute_result"
    }
   ],
   "source": [
    "\n",
    "from sklearn.ensemble import RandomForestClassifier\n",
    "RF = RandomForestClassifier(random_state=100)\n",
    "RF.fit(X1,y)"
   ]
  },
  {
   "cell_type": "code",
   "execution_count": 68,
   "id": "b1f43c47",
   "metadata": {},
   "outputs": [],
   "source": [
    "y_pred = RF.predict(X1)"
   ]
  },
  {
   "cell_type": "markdown",
   "id": "ff47f203",
   "metadata": {},
   "source": [
    "## Hyper parameters tuning using grid search CV"
   ]
  },
  {
   "cell_type": "code",
   "execution_count": 69,
   "id": "96944b17",
   "metadata": {},
   "outputs": [],
   "source": [
    "from sklearn.model_selection import GridSearchCV"
   ]
  },
  {
   "cell_type": "code",
   "execution_count": 70,
   "id": "99a3f1ee",
   "metadata": {},
   "outputs": [],
   "source": [
    "n_fold = 4\n",
    "params = {'n_estimators' :[30,60,100],'max_depth':[10,20,30],'min_samples_leaf':[3,5,10],'min_samples_split': [5, 10, 20]}"
   ]
  },
  {
   "cell_type": "code",
   "execution_count": 71,
   "id": "3cbaaa65",
   "metadata": {},
   "outputs": [
    {
     "name": "stdout",
     "output_type": "stream",
     "text": [
      "Fitting 4 folds for each of 81 candidates, totalling 324 fits\n"
     ]
    },
    {
     "data": {
      "text/plain": [
       "GridSearchCV(cv=4, estimator=RandomForestClassifier(random_state=100),\n",
       "             n_jobs=-1,\n",
       "             param_grid={'max_depth': [10, 20, 30],\n",
       "                         'min_samples_leaf': [3, 5, 10],\n",
       "                         'min_samples_split': [5, 10, 20],\n",
       "                         'n_estimators': [30, 60, 100]},\n",
       "             scoring='accuracy', verbose=1)"
      ]
     },
     "execution_count": 71,
     "metadata": {},
     "output_type": "execute_result"
    }
   ],
   "source": [
    "RF2 = GridSearchCV(estimator = RF,cv = n_fold,param_grid = params,n_jobs = -1,scoring = 'accuracy',verbose = 1)\n",
    "RF2.fit(X1,y)"
   ]
  },
  {
   "cell_type": "markdown",
   "id": "aac85016",
   "metadata": {},
   "source": [
    "### best parameters from Grid Search"
   ]
  },
  {
   "cell_type": "code",
   "execution_count": 72,
   "id": "bd800562",
   "metadata": {},
   "outputs": [
    {
     "data": {
      "text/plain": [
       "{'max_depth': 30,\n",
       " 'min_samples_leaf': 3,\n",
       " 'min_samples_split': 10,\n",
       " 'n_estimators': 100}"
      ]
     },
     "execution_count": 72,
     "metadata": {},
     "output_type": "execute_result"
    }
   ],
   "source": [
    "RF2.best_params_"
   ]
  },
  {
   "cell_type": "code",
   "execution_count": 73,
   "id": "b2c2f602",
   "metadata": {},
   "outputs": [],
   "source": [
    "RF3 = RF2.best_estimator_"
   ]
  },
  {
   "cell_type": "markdown",
   "id": "932562f9",
   "metadata": {},
   "source": [
    "### ROC Curve for RF model"
   ]
  },
  {
   "cell_type": "code",
   "execution_count": 74,
   "id": "96b6a6c2",
   "metadata": {},
   "outputs": [
    {
     "data": {
      "text/plain": [
       "<sklearn.metrics._plot.roc_curve.RocCurveDisplay at 0x7fa2695216d0>"
      ]
     },
     "execution_count": 74,
     "metadata": {},
     "output_type": "execute_result"
    },
    {
     "data": {
      "image/png": "[encoded data removed]",
      "text/plain": [
       "<Figure size 432x288 with 1 Axes>"
      ]
     },
     "metadata": {
      "needs_background": "light"
     },
     "output_type": "display_data"
    }
   ],
   "source": [
    "from sklearn.metrics import plot_roc_curve\n",
    "plot_roc_curve(RF3,X1,y,drop_intermediate=False)"
   ]
  },
  {
   "cell_type": "markdown",
   "id": "4db6dbb7",
   "metadata": {},
   "source": [
    "#### Precesion and recall for RF"
   ]
  },
  {
   "cell_type": "code",
   "execution_count": 75,
   "id": "1a50c9cd",
   "metadata": {},
   "outputs": [
    {
     "name": "stdout",
     "output_type": "stream",
     "text": [
      "              precision    recall  f1-score   support\n",
      "\n",
      "           0       0.97      1.00      0.98     19239\n",
      "           1       1.00      0.63      0.77      1731\n",
      "\n",
      "    accuracy                           0.97     20970\n",
      "   macro avg       0.98      0.81      0.88     20970\n",
      "weighted avg       0.97      0.97      0.97     20970\n",
      "\n"
     ]
    }
   ],
   "source": [
    "print(classification_report(y,RF3.predict(X1)))"
   ]
  },
  {
   "cell_type": "code",
   "execution_count": 76,
   "id": "934fd082",
   "metadata": {},
   "outputs": [
    {
     "name": "stdout",
     "output_type": "stream",
     "text": [
      "[[19239     0]\n",
      " [  647  1084]]\n"
     ]
    }
   ],
   "source": [
    "# Confusion matrix\n",
    "print(confusion_matrix(y,RF3.predict(X1)))"
   ]
  },
  {
   "cell_type": "markdown",
   "id": "5709ffde",
   "metadata": {},
   "source": [
    "## transforming test data"
   ]
  },
  {
   "cell_type": "code",
   "execution_count": 77,
   "id": "d8a6b9d0",
   "metadata": {},
   "outputs": [
    {
     "data": {
      "text/html": [
       "<div>\n",
       "<style scoped>\n",
       "    .dataframe tbody tr th:only-of-type {\n",
       "        vertical-align: middle;\n",
       "    }\n",
       "\n",
       "    .dataframe tbody tr th {\n",
       "        vertical-align: top;\n",
       "    }\n",
       "\n",
       "    .dataframe thead th {\n",
       "        text-align: right;\n",
       "    }\n",
       "</style>\n",
       "<table border=\"1\" class=\"dataframe\">\n",
       "  <thead>\n",
       "    <tr style=\"text-align: right;\">\n",
       "      <th></th>\n",
       "      <th>id</th>\n",
       "      <th>circle_id</th>\n",
       "      <th>loc_og_t2o_mou</th>\n",
       "      <th>std_og_t2o_mou</th>\n",
       "      <th>loc_ic_t2o_mou</th>\n",
       "      <th>last_date_of_month_6</th>\n",
       "      <th>last_date_of_month_7</th>\n",
       "      <th>last_date_of_month_8</th>\n",
       "      <th>arpu_6</th>\n",
       "      <th>arpu_7</th>\n",
       "      <th>...</th>\n",
       "      <th>sachet_3g_6</th>\n",
       "      <th>sachet_3g_7</th>\n",
       "      <th>sachet_3g_8</th>\n",
       "      <th>fb_user_6</th>\n",
       "      <th>fb_user_7</th>\n",
       "      <th>fb_user_8</th>\n",
       "      <th>aon</th>\n",
       "      <th>aug_vbc_3g</th>\n",
       "      <th>jul_vbc_3g</th>\n",
       "      <th>jun_vbc_3g</th>\n",
       "    </tr>\n",
       "  </thead>\n",
       "  <tbody>\n",
       "    <tr>\n",
       "      <th>0</th>\n",
       "      <td>69999</td>\n",
       "      <td>109</td>\n",
       "      <td>0.0</td>\n",
       "      <td>0.0</td>\n",
       "      <td>0.0</td>\n",
       "      <td>6/30/2014</td>\n",
       "      <td>7/31/2014</td>\n",
       "      <td>8/31/2014</td>\n",
       "      <td>91.882</td>\n",
       "      <td>65.330</td>\n",
       "      <td>...</td>\n",
       "      <td>0</td>\n",
       "      <td>0</td>\n",
       "      <td>0</td>\n",
       "      <td>NaN</td>\n",
       "      <td>NaN</td>\n",
       "      <td>NaN</td>\n",
       "      <td>1692</td>\n",
       "      <td>0.00</td>\n",
       "      <td>0.00</td>\n",
       "      <td>0.00</td>\n",
       "    </tr>\n",
       "    <tr>\n",
       "      <th>1</th>\n",
       "      <td>70000</td>\n",
       "      <td>109</td>\n",
       "      <td>0.0</td>\n",
       "      <td>0.0</td>\n",
       "      <td>0.0</td>\n",
       "      <td>6/30/2014</td>\n",
       "      <td>7/31/2014</td>\n",
       "      <td>8/31/2014</td>\n",
       "      <td>414.168</td>\n",
       "      <td>515.568</td>\n",
       "      <td>...</td>\n",
       "      <td>0</td>\n",
       "      <td>0</td>\n",
       "      <td>0</td>\n",
       "      <td>NaN</td>\n",
       "      <td>NaN</td>\n",
       "      <td>NaN</td>\n",
       "      <td>2533</td>\n",
       "      <td>0.00</td>\n",
       "      <td>0.00</td>\n",
       "      <td>0.00</td>\n",
       "    </tr>\n",
       "    <tr>\n",
       "      <th>2</th>\n",
       "      <td>70001</td>\n",
       "      <td>109</td>\n",
       "      <td>0.0</td>\n",
       "      <td>0.0</td>\n",
       "      <td>0.0</td>\n",
       "      <td>6/30/2014</td>\n",
       "      <td>7/31/2014</td>\n",
       "      <td>8/31/2014</td>\n",
       "      <td>329.844</td>\n",
       "      <td>434.884</td>\n",
       "      <td>...</td>\n",
       "      <td>0</td>\n",
       "      <td>0</td>\n",
       "      <td>0</td>\n",
       "      <td>NaN</td>\n",
       "      <td>NaN</td>\n",
       "      <td>NaN</td>\n",
       "      <td>277</td>\n",
       "      <td>525.61</td>\n",
       "      <td>758.41</td>\n",
       "      <td>241.84</td>\n",
       "    </tr>\n",
       "    <tr>\n",
       "      <th>3</th>\n",
       "      <td>70002</td>\n",
       "      <td>109</td>\n",
       "      <td>0.0</td>\n",
       "      <td>0.0</td>\n",
       "      <td>0.0</td>\n",
       "      <td>6/30/2014</td>\n",
       "      <td>7/31/2014</td>\n",
       "      <td>8/31/2014</td>\n",
       "      <td>43.550</td>\n",
       "      <td>171.390</td>\n",
       "      <td>...</td>\n",
       "      <td>0</td>\n",
       "      <td>0</td>\n",
       "      <td>0</td>\n",
       "      <td>NaN</td>\n",
       "      <td>NaN</td>\n",
       "      <td>NaN</td>\n",
       "      <td>1244</td>\n",
       "      <td>0.00</td>\n",
       "      <td>0.00</td>\n",
       "      <td>0.00</td>\n",
       "    </tr>\n",
       "    <tr>\n",
       "      <th>4</th>\n",
       "      <td>70003</td>\n",
       "      <td>109</td>\n",
       "      <td>0.0</td>\n",
       "      <td>0.0</td>\n",
       "      <td>0.0</td>\n",
       "      <td>6/30/2014</td>\n",
       "      <td>7/31/2014</td>\n",
       "      <td>8/31/2014</td>\n",
       "      <td>306.854</td>\n",
       "      <td>406.289</td>\n",
       "      <td>...</td>\n",
       "      <td>0</td>\n",
       "      <td>0</td>\n",
       "      <td>0</td>\n",
       "      <td>NaN</td>\n",
       "      <td>NaN</td>\n",
       "      <td>NaN</td>\n",
       "      <td>462</td>\n",
       "      <td>0.00</td>\n",
       "      <td>0.00</td>\n",
       "      <td>0.00</td>\n",
       "    </tr>\n",
       "  </tbody>\n",
       "</table>\n",
       "<p>5 rows × 171 columns</p>\n",
       "</div>"
      ],
      "text/plain": [
       "      id  circle_id  loc_og_t2o_mou  std_og_t2o_mou  loc_ic_t2o_mou  \\\n",
       "0  69999        109             0.0             0.0             0.0   \n",
       "1  70000        109             0.0             0.0             0.0   \n",
       "2  70001        109             0.0             0.0             0.0   \n",
       "3  70002        109             0.0             0.0             0.0   \n",
       "4  70003        109             0.0             0.0             0.0   \n",
       "\n",
       "  last_date_of_month_6 last_date_of_month_7 last_date_of_month_8   arpu_6  \\\n",
       "0            6/30/2014            7/31/2014            8/31/2014   91.882   \n",
       "1            6/30/2014            7/31/2014            8/31/2014  414.168   \n",
       "2            6/30/2014            7/31/2014            8/31/2014  329.844   \n",
       "3            6/30/2014            7/31/2014            8/31/2014   43.550   \n",
       "4            6/30/2014            7/31/2014            8/31/2014  306.854   \n",
       "\n",
       "    arpu_7  ...  sachet_3g_6  sachet_3g_7  sachet_3g_8  fb_user_6  fb_user_7  \\\n",
       "0   65.330  ...            0            0            0        NaN        NaN   \n",
       "1  515.568  ...            0            0            0        NaN        NaN   \n",
       "2  434.884  ...            0            0            0        NaN        NaN   \n",
       "3  171.390  ...            0            0            0        NaN        NaN   \n",
       "4  406.289  ...            0            0            0        NaN        NaN   \n",
       "\n",
       "   fb_user_8   aon  aug_vbc_3g  jul_vbc_3g  jun_vbc_3g  \n",
       "0        NaN  1692        0.00        0.00        0.00  \n",
       "1        NaN  2533        0.00        0.00        0.00  \n",
       "2        NaN   277      525.61      758.41      241.84  \n",
       "3        NaN  1244        0.00        0.00        0.00  \n",
       "4        NaN   462        0.00        0.00        0.00  \n",
       "\n",
       "[5 rows x 171 columns]"
      ]
     },
     "execution_count": 77,
     "metadata": {},
     "output_type": "execute_result"
    }
   ],
   "source": [
    "test = pd.read_csv('test (1).csv')\n",
    "test.head()"
   ]
  },
  {
   "cell_type": "code",
   "execution_count": 78,
   "id": "08db3ab3",
   "metadata": {},
   "outputs": [],
   "source": [
    "ID = test['id']"
   ]
  },
  {
   "cell_type": "code",
   "execution_count": 79,
   "id": "b1e372b4",
   "metadata": {},
   "outputs": [],
   "source": [
    "test = test.drop(columns = redundant,axis = 1)"
   ]
  },
  {
   "cell_type": "code",
   "execution_count": 80,
   "id": "c20164b3",
   "metadata": {},
   "outputs": [],
   "source": [
    "test = test.drop(columns = 'id',axis = 1)"
   ]
  },
  {
   "cell_type": "code",
   "execution_count": 81,
   "id": "215b1dfe",
   "metadata": {},
   "outputs": [],
   "source": [
    "test['date_of_last_rech_6'] = pd.to_datetime(test['date_of_last_rech_6']).dt.day\n",
    "test['date_of_last_rech_7'] = pd.to_datetime(test['date_of_last_rech_7']).dt.day\n",
    "test['date_of_last_rech_8'] = pd.to_datetime(test['date_of_last_rech_8']).dt.day\n",
    "\n",
    "test['date_of_last_rech_data_6'] = pd.to_datetime(test['date_of_last_rech_data_6']).dt.day\n",
    "test['date_of_last_rech_data_7'] = pd.to_datetime(test['date_of_last_rech_data_7']).dt.day\n",
    "test['date_of_last_rech_data_8'] = pd.to_datetime(test['date_of_last_rech_data_8']).dt.day"
   ]
  },
  {
   "cell_type": "code",
   "execution_count": 82,
   "id": "85a3ae0c",
   "metadata": {},
   "outputs": [],
   "source": [
    "test = test.fillna(0)"
   ]
  },
  {
   "cell_type": "code",
   "execution_count": 83,
   "id": "2833c880",
   "metadata": {},
   "outputs": [],
   "source": [
    "#Total Recharge Amount for data\n",
    "\n",
    "test['total_rech_amt_data_6'] = test['av_rech_amt_data_6'] * test['total_rech_data_6']\n",
    "test['total_rech_amt_data_7'] = test['av_rech_amt_data_7'] * test['total_rech_data_7']\n",
    "test['total_rech_amt_data_8'] = test['av_rech_amt_data_8'] * test['total_rech_data_8']\n",
    "#Total Recharge Amount for data + call recharge\n",
    "test[\"total_recharge_amnt_6\"] = test['total_rech_amt_6'] + test['total_rech_amt_data_6']\n",
    "test[\"total_recharge_amnt_7\"] = test['total_rech_amt_7'] + test['total_rech_amt_data_7']\n",
    "test[\"total_recharge_amnt_8\"] = test['total_rech_amt_8'] + test['total_rech_amt_data_8']\n",
    "test[\"total_recharge_amnt_6_7_AVE\"] = (test[\"total_recharge_amnt_6\"]+test[\"total_recharge_amnt_7\"])/2"
   ]
  },
  {
   "cell_type": "code",
   "execution_count": 84,
   "id": "66fbfc94",
   "metadata": {},
   "outputs": [],
   "source": [
    "test = scaler.transform(test)\n",
    "X_test = iPCA.transform(test)"
   ]
  },
  {
   "cell_type": "markdown",
   "id": "5588e4b4",
   "metadata": {},
   "source": [
    "### using Logistic Regression for test data prediction"
   ]
  },
  {
   "cell_type": "code",
   "execution_count": 85,
   "id": "c72b0ba2",
   "metadata": {},
   "outputs": [
    {
     "data": {
      "text/html": [
       "<div>\n",
       "<style scoped>\n",
       "    .dataframe tbody tr th:only-of-type {\n",
       "        vertical-align: middle;\n",
       "    }\n",
       "\n",
       "    .dataframe tbody tr th {\n",
       "        vertical-align: top;\n",
       "    }\n",
       "\n",
       "    .dataframe thead th {\n",
       "        text-align: right;\n",
       "    }\n",
       "</style>\n",
       "<table border=\"1\" class=\"dataframe\">\n",
       "  <thead>\n",
       "    <tr style=\"text-align: right;\">\n",
       "      <th></th>\n",
       "      <th>id</th>\n",
       "      <th>Prob</th>\n",
       "    </tr>\n",
       "  </thead>\n",
       "  <tbody>\n",
       "    <tr>\n",
       "      <th>0</th>\n",
       "      <td>69999</td>\n",
       "      <td>0.012801</td>\n",
       "    </tr>\n",
       "    <tr>\n",
       "      <th>1</th>\n",
       "      <td>70000</td>\n",
       "      <td>0.058932</td>\n",
       "    </tr>\n",
       "    <tr>\n",
       "      <th>2</th>\n",
       "      <td>70001</td>\n",
       "      <td>0.267790</td>\n",
       "    </tr>\n",
       "    <tr>\n",
       "      <th>3</th>\n",
       "      <td>70002</td>\n",
       "      <td>0.014061</td>\n",
       "    </tr>\n",
       "    <tr>\n",
       "      <th>4</th>\n",
       "      <td>70003</td>\n",
       "      <td>0.052565</td>\n",
       "    </tr>\n",
       "  </tbody>\n",
       "</table>\n",
       "</div>"
      ],
      "text/plain": [
       "      id      Prob\n",
       "0  69999  0.012801\n",
       "1  70000  0.058932\n",
       "2  70001  0.267790\n",
       "3  70002  0.014061\n",
       "4  70003  0.052565"
      ]
     },
     "execution_count": 85,
     "metadata": {},
     "output_type": "execute_result"
    }
   ],
   "source": [
    "# Prediction for test data using Logistic Regression\n",
    "\n",
    "X_test_lr = sm.add_constant(X_test)\n",
    "y_test_lr = LR1.predict(X_test_lr)\n",
    "test_LR = pd.DataFrame({'id':ID,'Prob':y_test_lr})\n",
    "test_LR.head()"
   ]
  },
  {
   "cell_type": "code",
   "execution_count": 86,
   "id": "ae6928c1",
   "metadata": {},
   "outputs": [
    {
     "data": {
      "text/html": [
       "<div>\n",
       "<style scoped>\n",
       "    .dataframe tbody tr th:only-of-type {\n",
       "        vertical-align: middle;\n",
       "    }\n",
       "\n",
       "    .dataframe tbody tr th {\n",
       "        vertical-align: top;\n",
       "    }\n",
       "\n",
       "    .dataframe thead th {\n",
       "        text-align: right;\n",
       "    }\n",
       "</style>\n",
       "<table border=\"1\" class=\"dataframe\">\n",
       "  <thead>\n",
       "    <tr style=\"text-align: right;\">\n",
       "      <th></th>\n",
       "      <th>id</th>\n",
       "      <th>Prob</th>\n",
       "      <th>churn_probability</th>\n",
       "    </tr>\n",
       "  </thead>\n",
       "  <tbody>\n",
       "    <tr>\n",
       "      <th>0</th>\n",
       "      <td>69999</td>\n",
       "      <td>0.012801</td>\n",
       "      <td>0</td>\n",
       "    </tr>\n",
       "    <tr>\n",
       "      <th>1</th>\n",
       "      <td>70000</td>\n",
       "      <td>0.058932</td>\n",
       "      <td>0</td>\n",
       "    </tr>\n",
       "    <tr>\n",
       "      <th>2</th>\n",
       "      <td>70001</td>\n",
       "      <td>0.267790</td>\n",
       "      <td>0</td>\n",
       "    </tr>\n",
       "    <tr>\n",
       "      <th>3</th>\n",
       "      <td>70002</td>\n",
       "      <td>0.014061</td>\n",
       "      <td>0</td>\n",
       "    </tr>\n",
       "    <tr>\n",
       "      <th>4</th>\n",
       "      <td>70003</td>\n",
       "      <td>0.052565</td>\n",
       "      <td>0</td>\n",
       "    </tr>\n",
       "  </tbody>\n",
       "</table>\n",
       "</div>"
      ],
      "text/plain": [
       "      id      Prob  churn_probability\n",
       "0  69999  0.012801                  0\n",
       "1  70000  0.058932                  0\n",
       "2  70001  0.267790                  0\n",
       "3  70002  0.014061                  0\n",
       "4  70003  0.052565                  0"
      ]
     },
     "execution_count": 86,
     "metadata": {},
     "output_type": "execute_result"
    }
   ],
   "source": [
    "# Churn Probability dataframe\n",
    "test_LR['churn_probability']=test_LR['Prob'].apply(lambda x: 0 if x<0.5 else 1)\n",
    "\n",
    "test_LR.head()"
   ]
  },
  {
   "cell_type": "code",
   "execution_count": 87,
   "id": "2595230f",
   "metadata": {},
   "outputs": [
    {
     "data": {
      "text/plain": [
       "0    28725\n",
       "1     1275\n",
       "Name: churn_probability, dtype: int64"
      ]
     },
     "execution_count": 87,
     "metadata": {},
     "output_type": "execute_result"
    }
   ],
   "source": [
    "test_LR['churn_probability'].value_counts()"
   ]
  },
  {
   "cell_type": "code",
   "execution_count": 88,
   "id": "2b067e5f",
   "metadata": {},
   "outputs": [],
   "source": [
    "test_LR = test_LR.drop('Prob',axis=1)"
   ]
  },
  {
   "cell_type": "code",
   "execution_count": 89,
   "id": "dc0753d4",
   "metadata": {},
   "outputs": [],
   "source": [
    "# Exporting to a csv file\n",
    "test_LR.to_csv('Submission.csv',index=False)"
   ]
  },
  {
   "cell_type": "markdown",
   "id": "515337b2",
   "metadata": {},
   "source": [
    "### using Random Forest for test data prediction"
   ]
  },
  {
   "cell_type": "code",
   "execution_count": 90,
   "id": "01ec27b9",
   "metadata": {},
   "outputs": [
    {
     "data": {
      "text/html": [
       "<div>\n",
       "<style scoped>\n",
       "    .dataframe tbody tr th:only-of-type {\n",
       "        vertical-align: middle;\n",
       "    }\n",
       "\n",
       "    .dataframe tbody tr th {\n",
       "        vertical-align: top;\n",
       "    }\n",
       "\n",
       "    .dataframe thead th {\n",
       "        text-align: right;\n",
       "    }\n",
       "</style>\n",
       "<table border=\"1\" class=\"dataframe\">\n",
       "  <thead>\n",
       "    <tr style=\"text-align: right;\">\n",
       "      <th></th>\n",
       "      <th>id</th>\n",
       "      <th>churn_probability</th>\n",
       "    </tr>\n",
       "  </thead>\n",
       "  <tbody>\n",
       "    <tr>\n",
       "      <th>0</th>\n",
       "      <td>69999</td>\n",
       "      <td>0</td>\n",
       "    </tr>\n",
       "    <tr>\n",
       "      <th>1</th>\n",
       "      <td>70000</td>\n",
       "      <td>0</td>\n",
       "    </tr>\n",
       "    <tr>\n",
       "      <th>2</th>\n",
       "      <td>70001</td>\n",
       "      <td>0</td>\n",
       "    </tr>\n",
       "    <tr>\n",
       "      <th>3</th>\n",
       "      <td>70002</td>\n",
       "      <td>0</td>\n",
       "    </tr>\n",
       "    <tr>\n",
       "      <th>4</th>\n",
       "      <td>70003</td>\n",
       "      <td>0</td>\n",
       "    </tr>\n",
       "  </tbody>\n",
       "</table>\n",
       "</div>"
      ],
      "text/plain": [
       "      id  churn_probability\n",
       "0  69999                  0\n",
       "1  70000                  0\n",
       "2  70001                  0\n",
       "3  70002                  0\n",
       "4  70003                  0"
      ]
     },
     "execution_count": 90,
     "metadata": {},
     "output_type": "execute_result"
    }
   ],
   "source": [
    "# predicting using random forest model\n",
    "y_test_RF = RF3.predict(X_test)\n",
    "TEST_RF = pd.DataFrame({'id':ID,'churn_probability':y_test_RF})\n",
    "TEST_RF.head()"
   ]
  },
  {
   "cell_type": "code",
   "execution_count": 91,
   "id": "618f34be",
   "metadata": {},
   "outputs": [],
   "source": [
    "###exporting RF output in csv format\n",
    "TEST_RF.to_csv('RF.csv',index=False)"
   ]
  },
  {
   "cell_type": "code",
   "execution_count": 92,
   "id": "51a936b5",
   "metadata": {},
   "outputs": [],
   "source": [
    "### Logistic regression provided better accuracy on test data"
   ]
  }
 ],
 "metadata": {
  "kernelspec": {
   "display_name": "Python 3 (ipykernel)",
   "language": "python",
   "name": "python3"
  },
  "language_info": {
   "codemirror_mode": {
    "name": "ipython",
    "version": 3
   },
   "file_extension": ".py",
   "mimetype": "text/x-python",
   "name": "python",
   "nbconvert_exporter": "python",
   "pygments_lexer": "ipython3",
   "version": "3.9.7"
  }
 },
 "nbformat": 4,
 "nbformat_minor": 5
}
